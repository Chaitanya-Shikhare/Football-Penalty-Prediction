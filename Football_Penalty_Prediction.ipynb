{
  "nbformat": 4,
  "nbformat_minor": 0,
  "metadata": {
    "kernelspec": {
      "display_name": "Python 3",
      "language": "python",
      "name": "python3"
    },
    "toc": {
      "base_numbering": 1,
      "nav_menu": {},
      "number_sections": true,
      "sideBar": true,
      "skip_h1_title": false,
      "title_cell": "Table of Contents",
      "title_sidebar": "Contents",
      "toc_cell": false,
      "toc_position": {},
      "toc_section_display": true,
      "toc_window_display": false
    },
    "colab": {
      "name": "Football Penalty Prediction.ipynb",
      "provenance": [],
      "collapsed_sections": [],
      "include_colab_link": true
    }
  },
  "cells": [
    {
      "cell_type": "markdown",
      "metadata": {
        "id": "view-in-github",
        "colab_type": "text"
      },
      "source": [
        "<a href=\"https://colab.research.google.com/github/Chaitanya-Shikhare/Football-Penalty-Prediction/blob/main/Football_Penalty_Prediction.ipynb\" target=\"_parent\"><img src=\"https://colab.research.google.com/assets/colab-badge.svg\" alt=\"Open In Colab\"/></a>"
      ]
    },
    {
      "cell_type": "code",
      "metadata": {
        "id": "wNmij4GJTxaA"
      },
      "source": [
        "import pandas as pd\n",
        "import numpy as np\n",
        "import matplotlib.pyplot as plt\n",
        "%matplotlib inline\n",
        "import seaborn as sns\n",
        "from sklearn.model_selection import train_test_split\n",
        "from sklearn.preprocessing import StandardScaler\n",
        "from sklearn.metrics import accuracy_score"
      ],
      "execution_count": 34,
      "outputs": []
    },
    {
      "cell_type": "code",
      "metadata": {
        "colab": {
          "base_uri": "https://localhost:8080/",
          "height": 215
        },
        "id": "kTCSZ8gnUGQ_",
        "outputId": "ce8a2f1d-b6c6-40b4-9adc-364d3fd8183b"
      },
      "source": [
        "df = pd.read_csv(\"penalty.csv\")\n",
        "df.head()"
      ],
      "execution_count": 35,
      "outputs": [
        {
          "output_type": "execute_result",
          "data": {
            "text/html": [
              "<div>\n",
              "<style scoped>\n",
              "    .dataframe tbody tr th:only-of-type {\n",
              "        vertical-align: middle;\n",
              "    }\n",
              "\n",
              "    .dataframe tbody tr th {\n",
              "        vertical-align: top;\n",
              "    }\n",
              "\n",
              "    .dataframe thead th {\n",
              "        text-align: right;\n",
              "    }\n",
              "</style>\n",
              "<table border=\"1\" class=\"dataframe\">\n",
              "  <thead>\n",
              "    <tr style=\"text-align: right;\">\n",
              "      <th></th>\n",
              "      <th>index</th>\n",
              "      <th>period</th>\n",
              "      <th>minute</th>\n",
              "      <th>second</th>\n",
              "      <th>possession</th>\n",
              "      <th>duration</th>\n",
              "      <th>statsbomb_xg</th>\n",
              "      <th>penalty_taken_at_home</th>\n",
              "      <th>home_score</th>\n",
              "      <th>away_score</th>\n",
              "      <th>match_week</th>\n",
              "      <th>player_team_name</th>\n",
              "      <th>player_name</th>\n",
              "      <th>player_position</th>\n",
              "      <th>foot</th>\n",
              "      <th>technique</th>\n",
              "      <th>keeper_name</th>\n",
              "      <th>keeper_team_name</th>\n",
              "      <th>competition_name</th>\n",
              "      <th>competition_stage</th>\n",
              "      <th>stadium</th>\n",
              "      <th>direction</th>\n",
              "      <th>outcome</th>\n",
              "    </tr>\n",
              "  </thead>\n",
              "  <tbody>\n",
              "    <tr>\n",
              "      <th>0</th>\n",
              "      <td>0</td>\n",
              "      <td>2</td>\n",
              "      <td>92</td>\n",
              "      <td>5</td>\n",
              "      <td>149</td>\n",
              "      <td>0.478400</td>\n",
              "      <td>0.76</td>\n",
              "      <td>1.0</td>\n",
              "      <td>8.0</td>\n",
              "      <td>2.0</td>\n",
              "      <td>3.0</td>\n",
              "      <td>9</td>\n",
              "      <td>107</td>\n",
              "      <td>9</td>\n",
              "      <td>1</td>\n",
              "      <td>1</td>\n",
              "      <td>17</td>\n",
              "      <td>38</td>\n",
              "      <td>3</td>\n",
              "      <td>3</td>\n",
              "      <td>5</td>\n",
              "      <td>8</td>\n",
              "      <td>1</td>\n",
              "    </tr>\n",
              "    <tr>\n",
              "      <th>1</th>\n",
              "      <td>1</td>\n",
              "      <td>2</td>\n",
              "      <td>62</td>\n",
              "      <td>21</td>\n",
              "      <td>158</td>\n",
              "      <td>0.769673</td>\n",
              "      <td>0.76</td>\n",
              "      <td>1.0</td>\n",
              "      <td>4.0</td>\n",
              "      <td>2.0</td>\n",
              "      <td>9.0</td>\n",
              "      <td>9</td>\n",
              "      <td>107</td>\n",
              "      <td>3</td>\n",
              "      <td>1</td>\n",
              "      <td>1</td>\n",
              "      <td>132</td>\n",
              "      <td>80</td>\n",
              "      <td>3</td>\n",
              "      <td>3</td>\n",
              "      <td>5</td>\n",
              "      <td>5</td>\n",
              "      <td>1</td>\n",
              "    </tr>\n",
              "    <tr>\n",
              "      <th>2</th>\n",
              "      <td>2</td>\n",
              "      <td>2</td>\n",
              "      <td>67</td>\n",
              "      <td>17</td>\n",
              "      <td>155</td>\n",
              "      <td>0.707958</td>\n",
              "      <td>0.76</td>\n",
              "      <td>1.0</td>\n",
              "      <td>3.0</td>\n",
              "      <td>4.0</td>\n",
              "      <td>12.0</td>\n",
              "      <td>9</td>\n",
              "      <td>104</td>\n",
              "      <td>22</td>\n",
              "      <td>0</td>\n",
              "      <td>1</td>\n",
              "      <td>102</td>\n",
              "      <td>72</td>\n",
              "      <td>3</td>\n",
              "      <td>3</td>\n",
              "      <td>5</td>\n",
              "      <td>9</td>\n",
              "      <td>1</td>\n",
              "    </tr>\n",
              "    <tr>\n",
              "      <th>3</th>\n",
              "      <td>3</td>\n",
              "      <td>1</td>\n",
              "      <td>31</td>\n",
              "      <td>51</td>\n",
              "      <td>59</td>\n",
              "      <td>0.522165</td>\n",
              "      <td>0.76</td>\n",
              "      <td>0.0</td>\n",
              "      <td>2.0</td>\n",
              "      <td>2.0</td>\n",
              "      <td>22.0</td>\n",
              "      <td>79</td>\n",
              "      <td>31</td>\n",
              "      <td>10</td>\n",
              "      <td>1</td>\n",
              "      <td>1</td>\n",
              "      <td>90</td>\n",
              "      <td>11</td>\n",
              "      <td>3</td>\n",
              "      <td>3</td>\n",
              "      <td>5</td>\n",
              "      <td>4</td>\n",
              "      <td>1</td>\n",
              "    </tr>\n",
              "    <tr>\n",
              "      <th>4</th>\n",
              "      <td>4</td>\n",
              "      <td>1</td>\n",
              "      <td>38</td>\n",
              "      <td>43</td>\n",
              "      <td>70</td>\n",
              "      <td>0.321987</td>\n",
              "      <td>0.76</td>\n",
              "      <td>1.0</td>\n",
              "      <td>2.0</td>\n",
              "      <td>2.0</td>\n",
              "      <td>22.0</td>\n",
              "      <td>9</td>\n",
              "      <td>104</td>\n",
              "      <td>22</td>\n",
              "      <td>0</td>\n",
              "      <td>1</td>\n",
              "      <td>101</td>\n",
              "      <td>95</td>\n",
              "      <td>3</td>\n",
              "      <td>3</td>\n",
              "      <td>5</td>\n",
              "      <td>2</td>\n",
              "      <td>1</td>\n",
              "    </tr>\n",
              "  </tbody>\n",
              "</table>\n",
              "</div>"
            ],
            "text/plain": [
              "   index  period  minute  ...  stadium  direction  outcome\n",
              "0      0       2      92  ...        5          8        1\n",
              "1      1       2      62  ...        5          5        1\n",
              "2      2       2      67  ...        5          9        1\n",
              "3      3       1      31  ...        5          4        1\n",
              "4      4       1      38  ...        5          2        1\n",
              "\n",
              "[5 rows x 23 columns]"
            ]
          },
          "metadata": {
            "tags": []
          },
          "execution_count": 35
        }
      ]
    },
    {
      "cell_type": "code",
      "metadata": {
        "colab": {
          "base_uri": "https://localhost:8080/",
          "height": 304
        },
        "id": "hi7JuTX1UUFx",
        "outputId": "d6d1041e-596a-43cd-da41-2280e0018752"
      },
      "source": [
        "df.describe()"
      ],
      "execution_count": 36,
      "outputs": [
        {
          "output_type": "execute_result",
          "data": {
            "text/html": [
              "<div>\n",
              "<style scoped>\n",
              "    .dataframe tbody tr th:only-of-type {\n",
              "        vertical-align: middle;\n",
              "    }\n",
              "\n",
              "    .dataframe tbody tr th {\n",
              "        vertical-align: top;\n",
              "    }\n",
              "\n",
              "    .dataframe thead th {\n",
              "        text-align: right;\n",
              "    }\n",
              "</style>\n",
              "<table border=\"1\" class=\"dataframe\">\n",
              "  <thead>\n",
              "    <tr style=\"text-align: right;\">\n",
              "      <th></th>\n",
              "      <th>index</th>\n",
              "      <th>period</th>\n",
              "      <th>minute</th>\n",
              "      <th>second</th>\n",
              "      <th>possession</th>\n",
              "      <th>duration</th>\n",
              "      <th>statsbomb_xg</th>\n",
              "      <th>penalty_taken_at_home</th>\n",
              "      <th>home_score</th>\n",
              "      <th>away_score</th>\n",
              "      <th>match_week</th>\n",
              "      <th>player_team_name</th>\n",
              "      <th>player_name</th>\n",
              "      <th>player_position</th>\n",
              "      <th>foot</th>\n",
              "      <th>technique</th>\n",
              "      <th>keeper_name</th>\n",
              "      <th>keeper_team_name</th>\n",
              "      <th>competition_name</th>\n",
              "      <th>competition_stage</th>\n",
              "      <th>stadium</th>\n",
              "      <th>direction</th>\n",
              "      <th>outcome</th>\n",
              "    </tr>\n",
              "  </thead>\n",
              "  <tbody>\n",
              "    <tr>\n",
              "      <th>count</th>\n",
              "      <td>352.000000</td>\n",
              "      <td>352.000000</td>\n",
              "      <td>352.000000</td>\n",
              "      <td>352.000000</td>\n",
              "      <td>352.000000</td>\n",
              "      <td>352.000000</td>\n",
              "      <td>3.520000e+02</td>\n",
              "      <td>350.000000</td>\n",
              "      <td>350.000000</td>\n",
              "      <td>350.000000</td>\n",
              "      <td>350.000000</td>\n",
              "      <td>352.000000</td>\n",
              "      <td>352.000000</td>\n",
              "      <td>352.000000</td>\n",
              "      <td>352.000000</td>\n",
              "      <td>352.000000</td>\n",
              "      <td>352.000000</td>\n",
              "      <td>352.000000</td>\n",
              "      <td>352.000000</td>\n",
              "      <td>352.000000</td>\n",
              "      <td>352.000000</td>\n",
              "      <td>352.000000</td>\n",
              "      <td>352.000000</td>\n",
              "    </tr>\n",
              "    <tr>\n",
              "      <th>mean</th>\n",
              "      <td>175.500000</td>\n",
              "      <td>2.343750</td>\n",
              "      <td>69.321023</td>\n",
              "      <td>29.519886</td>\n",
              "      <td>143.522727</td>\n",
              "      <td>0.589386</td>\n",
              "      <td>7.600000e-01</td>\n",
              "      <td>0.605714</td>\n",
              "      <td>2.088571</td>\n",
              "      <td>1.517143</td>\n",
              "      <td>12.642857</td>\n",
              "      <td>30.937500</td>\n",
              "      <td>96.500000</td>\n",
              "      <td>10.974432</td>\n",
              "      <td>0.667614</td>\n",
              "      <td>0.985795</td>\n",
              "      <td>71.789773</td>\n",
              "      <td>41.974432</td>\n",
              "      <td>2.650568</td>\n",
              "      <td>2.664773</td>\n",
              "      <td>35.142045</td>\n",
              "      <td>5.781250</td>\n",
              "      <td>0.750000</td>\n",
              "    </tr>\n",
              "    <tr>\n",
              "      <th>std</th>\n",
              "      <td>101.757883</td>\n",
              "      <td>1.439577</td>\n",
              "      <td>35.823273</td>\n",
              "      <td>17.672541</td>\n",
              "      <td>74.712246</td>\n",
              "      <td>0.239586</td>\n",
              "      <td>3.668951e-15</td>\n",
              "      <td>0.489396</td>\n",
              "      <td>1.670796</td>\n",
              "      <td>1.250097</td>\n",
              "      <td>10.891015</td>\n",
              "      <td>24.675248</td>\n",
              "      <td>45.697631</td>\n",
              "      <td>7.387286</td>\n",
              "      <td>0.471739</td>\n",
              "      <td>0.118502</td>\n",
              "      <td>39.426532</td>\n",
              "      <td>29.724124</td>\n",
              "      <td>1.588796</td>\n",
              "      <td>1.120189</td>\n",
              "      <td>27.642142</td>\n",
              "      <td>2.563249</td>\n",
              "      <td>0.433629</td>\n",
              "    </tr>\n",
              "    <tr>\n",
              "      <th>min</th>\n",
              "      <td>0.000000</td>\n",
              "      <td>1.000000</td>\n",
              "      <td>1.000000</td>\n",
              "      <td>0.000000</td>\n",
              "      <td>3.000000</td>\n",
              "      <td>0.038319</td>\n",
              "      <td>7.600000e-01</td>\n",
              "      <td>0.000000</td>\n",
              "      <td>0.000000</td>\n",
              "      <td>0.000000</td>\n",
              "      <td>1.000000</td>\n",
              "      <td>0.000000</td>\n",
              "      <td>0.000000</td>\n",
              "      <td>0.000000</td>\n",
              "      <td>0.000000</td>\n",
              "      <td>0.000000</td>\n",
              "      <td>0.000000</td>\n",
              "      <td>0.000000</td>\n",
              "      <td>0.000000</td>\n",
              "      <td>0.000000</td>\n",
              "      <td>0.000000</td>\n",
              "      <td>0.000000</td>\n",
              "      <td>0.000000</td>\n",
              "    </tr>\n",
              "    <tr>\n",
              "      <th>25%</th>\n",
              "      <td>87.750000</td>\n",
              "      <td>1.000000</td>\n",
              "      <td>40.750000</td>\n",
              "      <td>14.000000</td>\n",
              "      <td>85.000000</td>\n",
              "      <td>0.445020</td>\n",
              "      <td>7.600000e-01</td>\n",
              "      <td>0.000000</td>\n",
              "      <td>1.000000</td>\n",
              "      <td>1.000000</td>\n",
              "      <td>4.000000</td>\n",
              "      <td>9.000000</td>\n",
              "      <td>62.750000</td>\n",
              "      <td>3.000000</td>\n",
              "      <td>0.000000</td>\n",
              "      <td>1.000000</td>\n",
              "      <td>36.000000</td>\n",
              "      <td>12.000000</td>\n",
              "      <td>2.000000</td>\n",
              "      <td>3.000000</td>\n",
              "      <td>5.000000</td>\n",
              "      <td>4.000000</td>\n",
              "      <td>0.750000</td>\n",
              "    </tr>\n",
              "    <tr>\n",
              "      <th>50%</th>\n",
              "      <td>175.500000</td>\n",
              "      <td>2.000000</td>\n",
              "      <td>68.500000</td>\n",
              "      <td>31.000000</td>\n",
              "      <td>144.000000</td>\n",
              "      <td>0.542750</td>\n",
              "      <td>7.600000e-01</td>\n",
              "      <td>1.000000</td>\n",
              "      <td>2.000000</td>\n",
              "      <td>1.000000</td>\n",
              "      <td>7.000000</td>\n",
              "      <td>24.000000</td>\n",
              "      <td>104.000000</td>\n",
              "      <td>11.000000</td>\n",
              "      <td>1.000000</td>\n",
              "      <td>1.000000</td>\n",
              "      <td>71.000000</td>\n",
              "      <td>34.000000</td>\n",
              "      <td>3.000000</td>\n",
              "      <td>3.000000</td>\n",
              "      <td>34.500000</td>\n",
              "      <td>5.000000</td>\n",
              "      <td>1.000000</td>\n",
              "    </tr>\n",
              "    <tr>\n",
              "      <th>75%</th>\n",
              "      <td>263.250000</td>\n",
              "      <td>2.000000</td>\n",
              "      <td>92.000000</td>\n",
              "      <td>45.000000</td>\n",
              "      <td>194.000000</td>\n",
              "      <td>0.668588</td>\n",
              "      <td>7.600000e-01</td>\n",
              "      <td>1.000000</td>\n",
              "      <td>3.000000</td>\n",
              "      <td>2.000000</td>\n",
              "      <td>21.000000</td>\n",
              "      <td>54.250000</td>\n",
              "      <td>133.250000</td>\n",
              "      <td>18.000000</td>\n",
              "      <td>1.000000</td>\n",
              "      <td>1.000000</td>\n",
              "      <td>100.000000</td>\n",
              "      <td>71.250000</td>\n",
              "      <td>3.000000</td>\n",
              "      <td>3.000000</td>\n",
              "      <td>64.000000</td>\n",
              "      <td>8.000000</td>\n",
              "      <td>1.000000</td>\n",
              "    </tr>\n",
              "    <tr>\n",
              "      <th>max</th>\n",
              "      <td>351.000000</td>\n",
              "      <td>5.000000</td>\n",
              "      <td>128.000000</td>\n",
              "      <td>59.000000</td>\n",
              "      <td>302.000000</td>\n",
              "      <td>2.160000</td>\n",
              "      <td>7.600000e-01</td>\n",
              "      <td>1.000000</td>\n",
              "      <td>11.000000</td>\n",
              "      <td>8.000000</td>\n",
              "      <td>38.000000</td>\n",
              "      <td>82.000000</td>\n",
              "      <td>176.000000</td>\n",
              "      <td>24.000000</td>\n",
              "      <td>1.000000</td>\n",
              "      <td>1.000000</td>\n",
              "      <td>138.000000</td>\n",
              "      <td>99.000000</td>\n",
              "      <td>7.000000</td>\n",
              "      <td>6.000000</td>\n",
              "      <td>75.000000</td>\n",
              "      <td>9.000000</td>\n",
              "      <td>1.000000</td>\n",
              "    </tr>\n",
              "  </tbody>\n",
              "</table>\n",
              "</div>"
            ],
            "text/plain": [
              "            index      period      minute  ...     stadium   direction     outcome\n",
              "count  352.000000  352.000000  352.000000  ...  352.000000  352.000000  352.000000\n",
              "mean   175.500000    2.343750   69.321023  ...   35.142045    5.781250    0.750000\n",
              "std    101.757883    1.439577   35.823273  ...   27.642142    2.563249    0.433629\n",
              "min      0.000000    1.000000    1.000000  ...    0.000000    0.000000    0.000000\n",
              "25%     87.750000    1.000000   40.750000  ...    5.000000    4.000000    0.750000\n",
              "50%    175.500000    2.000000   68.500000  ...   34.500000    5.000000    1.000000\n",
              "75%    263.250000    2.000000   92.000000  ...   64.000000    8.000000    1.000000\n",
              "max    351.000000    5.000000  128.000000  ...   75.000000    9.000000    1.000000\n",
              "\n",
              "[8 rows x 23 columns]"
            ]
          },
          "metadata": {
            "tags": []
          },
          "execution_count": 36
        }
      ]
    },
    {
      "cell_type": "code",
      "metadata": {
        "colab": {
          "base_uri": "https://localhost:8080/"
        },
        "id": "f_H4DJI2UXgS",
        "outputId": "1a8dd576-e45a-434c-ec08-26168be00a22"
      },
      "source": [
        "df.info()"
      ],
      "execution_count": 37,
      "outputs": [
        {
          "output_type": "stream",
          "text": [
            "<class 'pandas.core.frame.DataFrame'>\n",
            "RangeIndex: 352 entries, 0 to 351\n",
            "Data columns (total 23 columns):\n",
            " #   Column                 Non-Null Count  Dtype  \n",
            "---  ------                 --------------  -----  \n",
            " 0   index                  352 non-null    int64  \n",
            " 1   period                 352 non-null    int64  \n",
            " 2   minute                 352 non-null    int64  \n",
            " 3   second                 352 non-null    int64  \n",
            " 4   possession             352 non-null    int64  \n",
            " 5   duration               352 non-null    float64\n",
            " 6   statsbomb_xg           352 non-null    float64\n",
            " 7   penalty_taken_at_home  350 non-null    float64\n",
            " 8   home_score             350 non-null    float64\n",
            " 9   away_score             350 non-null    float64\n",
            " 10  match_week             350 non-null    float64\n",
            " 11  player_team_name       352 non-null    int64  \n",
            " 12  player_name            352 non-null    int64  \n",
            " 13  player_position        352 non-null    int64  \n",
            " 14  foot                   352 non-null    int64  \n",
            " 15  technique              352 non-null    int64  \n",
            " 16  keeper_name            352 non-null    int64  \n",
            " 17  keeper_team_name       352 non-null    int64  \n",
            " 18  competition_name       352 non-null    int64  \n",
            " 19  competition_stage      352 non-null    int64  \n",
            " 20  stadium                352 non-null    int64  \n",
            " 21  direction              352 non-null    int64  \n",
            " 22  outcome                352 non-null    int64  \n",
            "dtypes: float64(6), int64(17)\n",
            "memory usage: 63.4 KB\n"
          ],
          "name": "stdout"
        }
      ]
    },
    {
      "cell_type": "code",
      "metadata": {
        "colab": {
          "base_uri": "https://localhost:8080/"
        },
        "id": "lXlYPMAOkJSf",
        "outputId": "5552cf2e-3136-45d5-d0a2-7a9ae92a31b0"
      },
      "source": [
        "df.isnull().sum()"
      ],
      "execution_count": 38,
      "outputs": [
        {
          "output_type": "execute_result",
          "data": {
            "text/plain": [
              "index                    0\n",
              "period                   0\n",
              "minute                   0\n",
              "second                   0\n",
              "possession               0\n",
              "duration                 0\n",
              "statsbomb_xg             0\n",
              "penalty_taken_at_home    2\n",
              "home_score               2\n",
              "away_score               2\n",
              "match_week               2\n",
              "player_team_name         0\n",
              "player_name              0\n",
              "player_position          0\n",
              "foot                     0\n",
              "technique                0\n",
              "keeper_name              0\n",
              "keeper_team_name         0\n",
              "competition_name         0\n",
              "competition_stage        0\n",
              "stadium                  0\n",
              "direction                0\n",
              "outcome                  0\n",
              "dtype: int64"
            ]
          },
          "metadata": {
            "tags": []
          },
          "execution_count": 38
        }
      ]
    },
    {
      "cell_type": "code",
      "metadata": {
        "colab": {
          "base_uri": "https://localhost:8080/"
        },
        "id": "QbMmIRVpkU3Z",
        "outputId": "93b70537-e97e-4f31-d98c-6d8c00eaa917"
      },
      "source": [
        "df[\"penalty_taken_at_home\"].fillna(df[\"penalty_taken_at_home\"].mean(),inplace=True)\n",
        "df[\"home_score\"].fillna(df[\"home_score\"].mean(),inplace=True)\n",
        "df[\"away_score\"].fillna(df[\"away_score\"].mean(),inplace=True)\n",
        "df[\"match_week\"].fillna(df[\"match_week\"].mean(),inplace=True)\n",
        "df.isnull().sum()"
      ],
      "execution_count": 39,
      "outputs": [
        {
          "output_type": "execute_result",
          "data": {
            "text/plain": [
              "index                    0\n",
              "period                   0\n",
              "minute                   0\n",
              "second                   0\n",
              "possession               0\n",
              "duration                 0\n",
              "statsbomb_xg             0\n",
              "penalty_taken_at_home    0\n",
              "home_score               0\n",
              "away_score               0\n",
              "match_week               0\n",
              "player_team_name         0\n",
              "player_name              0\n",
              "player_position          0\n",
              "foot                     0\n",
              "technique                0\n",
              "keeper_name              0\n",
              "keeper_team_name         0\n",
              "competition_name         0\n",
              "competition_stage        0\n",
              "stadium                  0\n",
              "direction                0\n",
              "outcome                  0\n",
              "dtype: int64"
            ]
          },
          "metadata": {
            "tags": []
          },
          "execution_count": 39
        }
      ]
    },
    {
      "cell_type": "code",
      "metadata": {
        "colab": {
          "base_uri": "https://localhost:8080/"
        },
        "id": "UxxN0ZxOUk6y",
        "outputId": "90e37e23-f351-40be-aca6-207009b8c4e4"
      },
      "source": [
        "X = df.iloc[:, :-1].values\n",
        "y = df.iloc[:, -1].values\n",
        "X, y"
      ],
      "execution_count": 40,
      "outputs": [
        {
          "output_type": "execute_result",
          "data": {
            "text/plain": [
              "(array([[  0.,   2.,  92., ...,   3.,   5.,   8.],\n",
              "        [  1.,   2.,  62., ...,   3.,   5.,   5.],\n",
              "        [  2.,   2.,  67., ...,   3.,   5.,   9.],\n",
              "        ...,\n",
              "        [349.,   2.,  63., ...,   3.,  24.,   1.],\n",
              "        [350.,   2.,  47., ...,   3.,  26.,   9.],\n",
              "        [351.,   2.,  86., ...,   3.,   5.,   8.]]),\n",
              " array([1, 1, 1, 1, 1, 1, 0, 1, 1, 0, 1, 0, 1, 1, 1, 1, 0, 1, 0, 1, 1, 1,\n",
              "        0, 1, 1, 1, 1, 1, 1, 1, 0, 1, 1, 1, 1, 0, 0, 0, 0, 1, 1, 1, 0, 1,\n",
              "        1, 1, 1, 1, 1, 1, 1, 1, 1, 0, 1, 1, 0, 1, 0, 1, 1, 1, 0, 1, 1, 1,\n",
              "        0, 0, 0, 1, 1, 1, 1, 1, 1, 0, 1, 1, 1, 1, 1, 0, 0, 1, 1, 1, 1, 0,\n",
              "        1, 1, 0, 1, 1, 1, 0, 0, 1, 0, 1, 1, 0, 1, 1, 1, 1, 1, 1, 1, 1, 1,\n",
              "        1, 1, 1, 1, 1, 1, 0, 1, 0, 1, 1, 0, 1, 0, 0, 0, 1, 0, 1, 1, 0, 1,\n",
              "        0, 1, 1, 1, 1, 1, 1, 1, 1, 0, 1, 1, 0, 0, 1, 1, 0, 0, 1, 1, 1, 1,\n",
              "        1, 1, 1, 1, 1, 1, 1, 1, 1, 1, 1, 1, 1, 1, 1, 1, 1, 0, 1, 1, 1, 1,\n",
              "        0, 1, 0, 1, 1, 1, 1, 0, 1, 0, 1, 1, 1, 1, 0, 1, 0, 1, 1, 1, 1, 1,\n",
              "        1, 1, 1, 1, 1, 1, 0, 1, 0, 1, 1, 1, 0, 1, 1, 1, 1, 0, 0, 1, 1, 1,\n",
              "        1, 1, 1, 0, 0, 1, 1, 1, 1, 1, 1, 0, 0, 1, 1, 1, 1, 1, 1, 0, 1, 1,\n",
              "        0, 1, 1, 1, 1, 1, 1, 1, 1, 1, 1, 0, 1, 1, 0, 1, 1, 1, 1, 1, 1, 1,\n",
              "        0, 1, 1, 0, 1, 1, 1, 1, 0, 1, 1, 1, 0, 1, 1, 1, 1, 0, 0, 1, 1, 1,\n",
              "        1, 1, 0, 1, 1, 1, 1, 0, 1, 0, 1, 1, 1, 1, 0, 1, 1, 0, 0, 0, 1, 1,\n",
              "        1, 1, 0, 0, 0, 1, 1, 1, 1, 1, 1, 0, 1, 1, 1, 0, 1, 1, 1, 1, 1, 1,\n",
              "        0, 0, 1, 0, 1, 0, 1, 1, 0, 0, 1, 1, 1, 1, 1, 1, 0, 1, 0, 1, 1, 1]))"
            ]
          },
          "metadata": {
            "tags": []
          },
          "execution_count": 40
        }
      ]
    },
    {
      "cell_type": "code",
      "metadata": {
        "id": "r-tDw4UJfAMO"
      },
      "source": [
        "from sklearn.model_selection import train_test_split\n",
        "X_train, X_test, y_train, y_test = train_test_split(X, y, test_size = 0.25, random_state = 0)"
      ],
      "execution_count": 41,
      "outputs": []
    },
    {
      "cell_type": "code",
      "metadata": {
        "colab": {
          "base_uri": "https://localhost:8080/"
        },
        "id": "gFnvaJ1YfFov",
        "outputId": "236c662b-d383-487b-f92b-79fb18afb9de"
      },
      "source": [
        "X_test"
      ],
      "execution_count": 42,
      "outputs": [
        {
          "output_type": "execute_result",
          "data": {
            "text/plain": [
              "array([[  6.,   2.,  84., ...,   3.,   5.,   8.],\n",
              "       [ 52.,   2.,  61., ...,   3.,   1.,   6.],\n",
              "       [259.,   2.,  71., ...,   3.,  13.,   9.],\n",
              "       ...,\n",
              "       [ 22.,   2.,  47., ...,   0.,  62.,   9.],\n",
              "       [340.,   5., 125., ...,   2.,  43.,   5.],\n",
              "       [309.,   5., 124., ...,   4.,  65.,   2.]])"
            ]
          },
          "metadata": {
            "tags": []
          },
          "execution_count": 42
        }
      ]
    },
    {
      "cell_type": "code",
      "metadata": {
        "colab": {
          "base_uri": "https://localhost:8080/"
        },
        "id": "0vl_PfQSfLsP",
        "outputId": "cf66e0b3-6d09-4179-9a4d-c7c3592a83e8"
      },
      "source": [
        "X_train"
      ],
      "execution_count": 43,
      "outputs": [
        {
          "output_type": "execute_result",
          "data": {
            "text/plain": [
              "array([[142.,   2.,  52., ...,   3.,  21.,   7.],\n",
              "       [258.,   1.,  22., ...,   3.,  13.,   5.],\n",
              "       [ 66.,   2.,  65., ...,   3.,  46.,   9.],\n",
              "       ...,\n",
              "       [117.,   1.,  38., ...,   3.,   5.,   4.],\n",
              "       [ 47.,   2.,  55., ...,   3.,  66.,   6.],\n",
              "       [172.,   2.,  73., ...,   3.,  75.,   8.]])"
            ]
          },
          "metadata": {
            "tags": []
          },
          "execution_count": 43
        }
      ]
    },
    {
      "cell_type": "code",
      "metadata": {
        "colab": {
          "base_uri": "https://localhost:8080/"
        },
        "id": "hHKDVssNf2uv",
        "outputId": "7eef2733-3eff-4f42-9f6c-e35e2862f28b"
      },
      "source": [
        "y_train"
      ],
      "execution_count": 44,
      "outputs": [
        {
          "output_type": "execute_result",
          "data": {
            "text/plain": [
              "array([1, 1, 0, 1, 1, 1, 1, 1, 0, 1, 1, 0, 0, 1, 1, 0, 1, 1, 1, 0, 1, 1,\n",
              "       0, 1, 1, 1, 0, 0, 1, 1, 1, 1, 1, 1, 1, 1, 1, 0, 0, 1, 1, 0, 1, 0,\n",
              "       1, 1, 0, 1, 1, 1, 1, 0, 1, 1, 1, 1, 1, 1, 1, 1, 1, 1, 1, 1, 1, 0,\n",
              "       1, 0, 1, 0, 0, 1, 1, 1, 1, 0, 1, 1, 1, 1, 1, 1, 0, 1, 1, 0, 1, 1,\n",
              "       1, 0, 1, 1, 1, 1, 1, 1, 0, 1, 1, 1, 0, 1, 1, 0, 0, 0, 1, 1, 1, 1,\n",
              "       1, 1, 1, 0, 1, 0, 1, 1, 1, 0, 1, 1, 1, 1, 1, 1, 1, 1, 1, 1, 0, 1,\n",
              "       0, 1, 1, 1, 1, 0, 1, 1, 1, 0, 1, 1, 1, 1, 1, 0, 1, 1, 1, 1, 0, 0,\n",
              "       0, 1, 1, 1, 1, 1, 1, 0, 1, 0, 1, 0, 1, 1, 0, 1, 0, 1, 1, 1, 1, 1,\n",
              "       1, 1, 0, 0, 0, 1, 0, 1, 1, 1, 1, 1, 1, 0, 1, 1, 1, 1, 1, 1, 1, 1,\n",
              "       0, 1, 1, 1, 0, 0, 1, 1, 1, 1, 0, 0, 1, 1, 0, 0, 0, 0, 1, 1, 1, 0,\n",
              "       1, 1, 1, 1, 1, 1, 0, 0, 1, 0, 0, 1, 1, 1, 1, 1, 1, 1, 1, 1, 1, 1,\n",
              "       1, 1, 1, 0, 1, 1, 1, 1, 1, 0, 1, 0, 1, 1, 0, 1, 1, 0, 0, 1, 1, 1])"
            ]
          },
          "metadata": {
            "tags": []
          },
          "execution_count": 44
        }
      ]
    },
    {
      "cell_type": "code",
      "metadata": {
        "colab": {
          "base_uri": "https://localhost:8080/"
        },
        "id": "0aXuxsQLf4c_",
        "outputId": "7cc47076-bae1-4887-84a0-592fa95f936b"
      },
      "source": [
        "y_test"
      ],
      "execution_count": 45,
      "outputs": [
        {
          "output_type": "execute_result",
          "data": {
            "text/plain": [
              "array([0, 1, 1, 1, 1, 1, 1, 1, 1, 0, 0, 0, 1, 1, 0, 1, 1, 1, 1, 0, 1, 1,\n",
              "       0, 1, 1, 1, 1, 1, 1, 0, 1, 1, 1, 0, 1, 1, 1, 1, 0, 1, 0, 1, 1, 1,\n",
              "       1, 1, 1, 1, 0, 0, 1, 1, 1, 1, 1, 1, 1, 1, 1, 1, 0, 0, 0, 1, 1, 1,\n",
              "       1, 1, 1, 1, 1, 1, 1, 1, 1, 1, 0, 1, 1, 1, 0, 1, 1, 1, 1, 0, 1, 1])"
            ]
          },
          "metadata": {
            "tags": []
          },
          "execution_count": 45
        }
      ]
    },
    {
      "cell_type": "code",
      "metadata": {
        "id": "Y_DCAkQQf6QC"
      },
      "source": [
        "#sns.pairplot(df, hue='outcome', size=5)"
      ],
      "execution_count": 46,
      "outputs": []
    },
    {
      "cell_type": "code",
      "metadata": {
        "id": "s4PbFyF2gDUC"
      },
      "source": [
        "from sklearn.preprocessing import StandardScaler\n",
        "sc = StandardScaler()\n",
        "X_train = sc.fit_transform(X_train)\n",
        "X_test = sc.transform(X_test)"
      ],
      "execution_count": 47,
      "outputs": []
    },
    {
      "cell_type": "code",
      "metadata": {
        "colab": {
          "base_uri": "https://localhost:8080/"
        },
        "id": "SrK28nSuiHaJ",
        "outputId": "1823ad82-1ae7-4ac7-ddfe-0fc2ddf66839"
      },
      "source": [
        "X_train"
      ],
      "execution_count": 48,
      "outputs": [
        {
          "output_type": "execute_result",
          "data": {
            "text/plain": [
              "array([[-0.36036894, -0.27400341, -0.49937907, ...,  0.29662877,\n",
              "        -0.54793988,  0.49852074],\n",
              "       [ 0.76724304, -0.95004922, -1.32164148, ...,  0.29662877,\n",
              "        -0.83826828, -0.28023355],\n",
              "       [-1.09914921, -0.27400341, -0.14306535, ...,  0.29662877,\n",
              "         0.35933639,  1.27727502],\n",
              "       ...,\n",
              "       [-0.60338877, -0.95004922, -0.88310153, ...,  0.29662877,\n",
              "        -1.12859669, -0.66961069],\n",
              "       [-1.28384427, -0.27400341, -0.41715283, ...,  0.29662877,\n",
              "         1.0851574 ,  0.10914359],\n",
              "       [-0.06874515, -0.27400341,  0.07620462, ...,  0.29662877,\n",
              "         1.41177685,  0.88789788]])"
            ]
          },
          "metadata": {
            "tags": []
          },
          "execution_count": 48
        }
      ]
    },
    {
      "cell_type": "code",
      "metadata": {
        "colab": {
          "base_uri": "https://localhost:8080/"
        },
        "id": "ctDMKVpfiJue",
        "outputId": "0cfe4abe-3930-44e2-ea54-5090bc71425d"
      },
      "source": [
        "X_test"
      ],
      "execution_count": 49,
      "outputs": [
        {
          "output_type": "execute_result",
          "data": {
            "text/plain": [
              "array([[-1.68239678, -0.27400341,  0.37770084, ...,  0.29662877,\n",
              "        -1.12859669,  0.88789788],\n",
              "       [-1.23524031, -0.27400341, -0.25270034, ...,  0.29662877,\n",
              "        -1.27376089,  0.10914359],\n",
              "       [ 0.77696383, -0.27400341,  0.02138713, ...,  0.29662877,\n",
              "        -0.83826828,  1.27727502],\n",
              "       ...,\n",
              "       [-1.5268641 , -0.27400341, -0.6364228 , ..., -2.34303396,\n",
              "         0.9399932 ,  1.27727502],\n",
              "       [ 1.56434806,  1.75413401,  1.50145948, ..., -0.58325881,\n",
              "         0.25046324, -0.28023355],\n",
              "       [ 1.26300348,  1.75413401,  1.47405073, ...,  1.17651634,\n",
              "         1.04886635, -1.44836498]])"
            ]
          },
          "metadata": {
            "tags": []
          },
          "execution_count": 49
        }
      ]
    },
    {
      "cell_type": "code",
      "metadata": {
        "colab": {
          "base_uri": "https://localhost:8080/"
        },
        "id": "lOmP9brjiLzN",
        "outputId": "e4dd0425-aa1c-4027-93b1-43f4614f122e"
      },
      "source": [
        "from sklearn.linear_model import LogisticRegression\n",
        "classifier = LogisticRegression(random_state = 0)\n",
        "classifier.fit(X_train, y_train)"
      ],
      "execution_count": 50,
      "outputs": [
        {
          "output_type": "execute_result",
          "data": {
            "text/plain": [
              "LogisticRegression(C=1.0, class_weight=None, dual=False, fit_intercept=True,\n",
              "                   intercept_scaling=1, l1_ratio=None, max_iter=100,\n",
              "                   multi_class='auto', n_jobs=None, penalty='l2',\n",
              "                   random_state=0, solver='lbfgs', tol=0.0001, verbose=0,\n",
              "                   warm_start=False)"
            ]
          },
          "metadata": {
            "tags": []
          },
          "execution_count": 50
        }
      ]
    },
    {
      "cell_type": "code",
      "metadata": {
        "colab": {
          "base_uri": "https://localhost:8080/"
        },
        "id": "wlqv3jgYjew_",
        "outputId": "10edf7c0-0387-4bea-d5a6-2dee3b057abc"
      },
      "source": [
        "y_pred = classifier.predict(X_test)\n",
        "print(np.concatenate((y_pred.reshape(len(y_pred),1), y_test.reshape(len(y_test),1)),1))"
      ],
      "execution_count": 51,
      "outputs": [
        {
          "output_type": "stream",
          "text": [
            "[[1 0]\n",
            " [1 1]\n",
            " [1 1]\n",
            " [1 1]\n",
            " [1 1]\n",
            " [1 1]\n",
            " [1 1]\n",
            " [1 1]\n",
            " [1 1]\n",
            " [1 0]\n",
            " [1 0]\n",
            " [1 0]\n",
            " [1 1]\n",
            " [1 1]\n",
            " [0 0]\n",
            " [1 1]\n",
            " [1 1]\n",
            " [1 1]\n",
            " [1 1]\n",
            " [1 0]\n",
            " [1 1]\n",
            " [1 1]\n",
            " [0 0]\n",
            " [1 1]\n",
            " [1 1]\n",
            " [1 1]\n",
            " [1 1]\n",
            " [1 1]\n",
            " [1 1]\n",
            " [1 0]\n",
            " [1 1]\n",
            " [1 1]\n",
            " [1 1]\n",
            " [1 0]\n",
            " [1 1]\n",
            " [1 1]\n",
            " [1 1]\n",
            " [1 1]\n",
            " [1 0]\n",
            " [0 1]\n",
            " [1 0]\n",
            " [1 1]\n",
            " [1 1]\n",
            " [1 1]\n",
            " [1 1]\n",
            " [1 1]\n",
            " [1 1]\n",
            " [1 1]\n",
            " [1 0]\n",
            " [1 0]\n",
            " [1 1]\n",
            " [1 1]\n",
            " [1 1]\n",
            " [1 1]\n",
            " [1 1]\n",
            " [1 1]\n",
            " [1 1]\n",
            " [1 1]\n",
            " [1 1]\n",
            " [1 1]\n",
            " [1 0]\n",
            " [1 0]\n",
            " [1 0]\n",
            " [1 1]\n",
            " [1 1]\n",
            " [1 1]\n",
            " [1 1]\n",
            " [1 1]\n",
            " [1 1]\n",
            " [1 1]\n",
            " [1 1]\n",
            " [1 1]\n",
            " [1 1]\n",
            " [1 1]\n",
            " [1 1]\n",
            " [1 1]\n",
            " [1 0]\n",
            " [1 1]\n",
            " [1 1]\n",
            " [1 1]\n",
            " [1 0]\n",
            " [1 1]\n",
            " [1 1]\n",
            " [1 1]\n",
            " [1 1]\n",
            " [1 0]\n",
            " [1 1]\n",
            " [1 1]]\n"
          ],
          "name": "stdout"
        }
      ]
    },
    {
      "cell_type": "code",
      "metadata": {
        "colab": {
          "base_uri": "https://localhost:8080/"
        },
        "id": "wGWmqXWUlzWR",
        "outputId": "8002ee26-9c5f-4fcc-d919-56e8aac54c5e"
      },
      "source": [
        "from sklearn.metrics import confusion_matrix, accuracy_score\n",
        "cm = confusion_matrix(y_test, y_pred)\n",
        "print(cm)\n",
        "accuracy_score(y_test, y_pred)"
      ],
      "execution_count": 52,
      "outputs": [
        {
          "output_type": "stream",
          "text": [
            "[[ 2 17]\n",
            " [ 1 68]]\n"
          ],
          "name": "stdout"
        },
        {
          "output_type": "execute_result",
          "data": {
            "text/plain": [
              "0.7954545454545454"
            ]
          },
          "metadata": {
            "tags": []
          },
          "execution_count": 52
        }
      ]
    },
    {
      "cell_type": "code",
      "metadata": {
        "id": "NuKN_mTTpNc_"
      },
      "source": [
        ""
      ],
      "execution_count": 52,
      "outputs": []
    }
  ]
}