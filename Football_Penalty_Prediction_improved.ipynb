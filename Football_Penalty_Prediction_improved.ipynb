{
  "nbformat": 4,
  "nbformat_minor": 0,
  "metadata": {
    "kernelspec": {
      "display_name": "Python 3",
      "language": "python",
      "name": "python3"
    },
    "toc": {
      "base_numbering": 1,
      "nav_menu": {},
      "number_sections": true,
      "sideBar": true,
      "skip_h1_title": false,
      "title_cell": "Table of Contents",
      "title_sidebar": "Contents",
      "toc_cell": false,
      "toc_position": {},
      "toc_section_display": true,
      "toc_window_display": false
    },
    "colab": {
      "name": "Football_Penalty_Prediction_improved.ipynb",
      "provenance": [],
      "collapsed_sections": [],
      "include_colab_link": true
    }
  },
  "cells": [
    {
      "cell_type": "markdown",
      "metadata": {
        "id": "view-in-github",
        "colab_type": "text"
      },
      "source": [
        "<a href=\"https://colab.research.google.com/github/Chaitanya-Shikhare/Football-Penalty-Prediction/blob/main/Football_Penalty_Prediction_improved.ipynb\" target=\"_parent\"><img src=\"https://colab.research.google.com/assets/colab-badge.svg\" alt=\"Open In Colab\"/></a>"
      ]
    },
    {
      "cell_type": "code",
      "metadata": {
        "id": "wNmij4GJTxaA"
      },
      "source": [
        "import pandas as pd\n",
        "import numpy as np\n",
        "import matplotlib.pyplot as plt\n",
        "%matplotlib inline\n",
        "import seaborn as sns\n",
        "from sklearn.model_selection import train_test_split\n",
        "from sklearn.preprocessing import StandardScaler\n",
        "from sklearn.metrics import accuracy_score"
      ],
      "execution_count": 1,
      "outputs": []
    },
    {
      "cell_type": "code",
      "metadata": {
        "colab": {
          "base_uri": "https://localhost:8080/",
          "height": 215
        },
        "id": "kTCSZ8gnUGQ_",
        "outputId": "d82a3dc0-10a4-4c94-9cab-319b92e726fe"
      },
      "source": [
        "df = pd.read_csv(\"penalty.csv\")\n",
        "df.head()"
      ],
      "execution_count": 2,
      "outputs": [
        {
          "output_type": "execute_result",
          "data": {
            "text/html": [
              "<div>\n",
              "<style scoped>\n",
              "    .dataframe tbody tr th:only-of-type {\n",
              "        vertical-align: middle;\n",
              "    }\n",
              "\n",
              "    .dataframe tbody tr th {\n",
              "        vertical-align: top;\n",
              "    }\n",
              "\n",
              "    .dataframe thead th {\n",
              "        text-align: right;\n",
              "    }\n",
              "</style>\n",
              "<table border=\"1\" class=\"dataframe\">\n",
              "  <thead>\n",
              "    <tr style=\"text-align: right;\">\n",
              "      <th></th>\n",
              "      <th>index</th>\n",
              "      <th>period</th>\n",
              "      <th>minute</th>\n",
              "      <th>second</th>\n",
              "      <th>possession</th>\n",
              "      <th>duration</th>\n",
              "      <th>statsbomb_xg</th>\n",
              "      <th>penalty_taken_at_home</th>\n",
              "      <th>home_score</th>\n",
              "      <th>away_score</th>\n",
              "      <th>match_week</th>\n",
              "      <th>player_team_name</th>\n",
              "      <th>player_name</th>\n",
              "      <th>player_position</th>\n",
              "      <th>foot</th>\n",
              "      <th>technique</th>\n",
              "      <th>keeper_name</th>\n",
              "      <th>keeper_team_name</th>\n",
              "      <th>competition_name</th>\n",
              "      <th>competition_stage</th>\n",
              "      <th>stadium</th>\n",
              "      <th>direction</th>\n",
              "      <th>outcome</th>\n",
              "    </tr>\n",
              "  </thead>\n",
              "  <tbody>\n",
              "    <tr>\n",
              "      <th>0</th>\n",
              "      <td>0</td>\n",
              "      <td>2</td>\n",
              "      <td>92</td>\n",
              "      <td>5</td>\n",
              "      <td>149</td>\n",
              "      <td>0.478400</td>\n",
              "      <td>0.76</td>\n",
              "      <td>1.0</td>\n",
              "      <td>8.0</td>\n",
              "      <td>2.0</td>\n",
              "      <td>3.0</td>\n",
              "      <td>9</td>\n",
              "      <td>107</td>\n",
              "      <td>9</td>\n",
              "      <td>1</td>\n",
              "      <td>1</td>\n",
              "      <td>17</td>\n",
              "      <td>38</td>\n",
              "      <td>3</td>\n",
              "      <td>3</td>\n",
              "      <td>5</td>\n",
              "      <td>8</td>\n",
              "      <td>1</td>\n",
              "    </tr>\n",
              "    <tr>\n",
              "      <th>1</th>\n",
              "      <td>1</td>\n",
              "      <td>2</td>\n",
              "      <td>62</td>\n",
              "      <td>21</td>\n",
              "      <td>158</td>\n",
              "      <td>0.769673</td>\n",
              "      <td>0.76</td>\n",
              "      <td>1.0</td>\n",
              "      <td>4.0</td>\n",
              "      <td>2.0</td>\n",
              "      <td>9.0</td>\n",
              "      <td>9</td>\n",
              "      <td>107</td>\n",
              "      <td>3</td>\n",
              "      <td>1</td>\n",
              "      <td>1</td>\n",
              "      <td>132</td>\n",
              "      <td>80</td>\n",
              "      <td>3</td>\n",
              "      <td>3</td>\n",
              "      <td>5</td>\n",
              "      <td>5</td>\n",
              "      <td>1</td>\n",
              "    </tr>\n",
              "    <tr>\n",
              "      <th>2</th>\n",
              "      <td>2</td>\n",
              "      <td>2</td>\n",
              "      <td>67</td>\n",
              "      <td>17</td>\n",
              "      <td>155</td>\n",
              "      <td>0.707958</td>\n",
              "      <td>0.76</td>\n",
              "      <td>1.0</td>\n",
              "      <td>3.0</td>\n",
              "      <td>4.0</td>\n",
              "      <td>12.0</td>\n",
              "      <td>9</td>\n",
              "      <td>104</td>\n",
              "      <td>22</td>\n",
              "      <td>0</td>\n",
              "      <td>1</td>\n",
              "      <td>102</td>\n",
              "      <td>72</td>\n",
              "      <td>3</td>\n",
              "      <td>3</td>\n",
              "      <td>5</td>\n",
              "      <td>9</td>\n",
              "      <td>1</td>\n",
              "    </tr>\n",
              "    <tr>\n",
              "      <th>3</th>\n",
              "      <td>3</td>\n",
              "      <td>1</td>\n",
              "      <td>31</td>\n",
              "      <td>51</td>\n",
              "      <td>59</td>\n",
              "      <td>0.522165</td>\n",
              "      <td>0.76</td>\n",
              "      <td>0.0</td>\n",
              "      <td>2.0</td>\n",
              "      <td>2.0</td>\n",
              "      <td>22.0</td>\n",
              "      <td>79</td>\n",
              "      <td>31</td>\n",
              "      <td>10</td>\n",
              "      <td>1</td>\n",
              "      <td>1</td>\n",
              "      <td>90</td>\n",
              "      <td>11</td>\n",
              "      <td>3</td>\n",
              "      <td>3</td>\n",
              "      <td>5</td>\n",
              "      <td>4</td>\n",
              "      <td>1</td>\n",
              "    </tr>\n",
              "    <tr>\n",
              "      <th>4</th>\n",
              "      <td>4</td>\n",
              "      <td>1</td>\n",
              "      <td>38</td>\n",
              "      <td>43</td>\n",
              "      <td>70</td>\n",
              "      <td>0.321987</td>\n",
              "      <td>0.76</td>\n",
              "      <td>1.0</td>\n",
              "      <td>2.0</td>\n",
              "      <td>2.0</td>\n",
              "      <td>22.0</td>\n",
              "      <td>9</td>\n",
              "      <td>104</td>\n",
              "      <td>22</td>\n",
              "      <td>0</td>\n",
              "      <td>1</td>\n",
              "      <td>101</td>\n",
              "      <td>95</td>\n",
              "      <td>3</td>\n",
              "      <td>3</td>\n",
              "      <td>5</td>\n",
              "      <td>2</td>\n",
              "      <td>1</td>\n",
              "    </tr>\n",
              "  </tbody>\n",
              "</table>\n",
              "</div>"
            ],
            "text/plain": [
              "   index  period  minute  ...  stadium  direction  outcome\n",
              "0      0       2      92  ...        5          8        1\n",
              "1      1       2      62  ...        5          5        1\n",
              "2      2       2      67  ...        5          9        1\n",
              "3      3       1      31  ...        5          4        1\n",
              "4      4       1      38  ...        5          2        1\n",
              "\n",
              "[5 rows x 23 columns]"
            ]
          },
          "metadata": {
            "tags": []
          },
          "execution_count": 2
        }
      ]
    },
    {
      "cell_type": "code",
      "metadata": {
        "colab": {
          "base_uri": "https://localhost:8080/",
          "height": 304
        },
        "id": "hi7JuTX1UUFx",
        "outputId": "ba63fad8-a7e2-42f0-d6ef-ea4692e05368"
      },
      "source": [
        "df.describe()"
      ],
      "execution_count": 3,
      "outputs": [
        {
          "output_type": "execute_result",
          "data": {
            "text/html": [
              "<div>\n",
              "<style scoped>\n",
              "    .dataframe tbody tr th:only-of-type {\n",
              "        vertical-align: middle;\n",
              "    }\n",
              "\n",
              "    .dataframe tbody tr th {\n",
              "        vertical-align: top;\n",
              "    }\n",
              "\n",
              "    .dataframe thead th {\n",
              "        text-align: right;\n",
              "    }\n",
              "</style>\n",
              "<table border=\"1\" class=\"dataframe\">\n",
              "  <thead>\n",
              "    <tr style=\"text-align: right;\">\n",
              "      <th></th>\n",
              "      <th>index</th>\n",
              "      <th>period</th>\n",
              "      <th>minute</th>\n",
              "      <th>second</th>\n",
              "      <th>possession</th>\n",
              "      <th>duration</th>\n",
              "      <th>statsbomb_xg</th>\n",
              "      <th>penalty_taken_at_home</th>\n",
              "      <th>home_score</th>\n",
              "      <th>away_score</th>\n",
              "      <th>match_week</th>\n",
              "      <th>player_team_name</th>\n",
              "      <th>player_name</th>\n",
              "      <th>player_position</th>\n",
              "      <th>foot</th>\n",
              "      <th>technique</th>\n",
              "      <th>keeper_name</th>\n",
              "      <th>keeper_team_name</th>\n",
              "      <th>competition_name</th>\n",
              "      <th>competition_stage</th>\n",
              "      <th>stadium</th>\n",
              "      <th>direction</th>\n",
              "      <th>outcome</th>\n",
              "    </tr>\n",
              "  </thead>\n",
              "  <tbody>\n",
              "    <tr>\n",
              "      <th>count</th>\n",
              "      <td>352.000000</td>\n",
              "      <td>352.000000</td>\n",
              "      <td>352.000000</td>\n",
              "      <td>352.000000</td>\n",
              "      <td>352.000000</td>\n",
              "      <td>352.000000</td>\n",
              "      <td>3.520000e+02</td>\n",
              "      <td>350.000000</td>\n",
              "      <td>350.000000</td>\n",
              "      <td>350.000000</td>\n",
              "      <td>350.000000</td>\n",
              "      <td>352.000000</td>\n",
              "      <td>352.000000</td>\n",
              "      <td>352.000000</td>\n",
              "      <td>352.000000</td>\n",
              "      <td>352.000000</td>\n",
              "      <td>352.000000</td>\n",
              "      <td>352.000000</td>\n",
              "      <td>352.000000</td>\n",
              "      <td>352.000000</td>\n",
              "      <td>352.000000</td>\n",
              "      <td>352.000000</td>\n",
              "      <td>352.000000</td>\n",
              "    </tr>\n",
              "    <tr>\n",
              "      <th>mean</th>\n",
              "      <td>175.500000</td>\n",
              "      <td>2.343750</td>\n",
              "      <td>69.321023</td>\n",
              "      <td>29.519886</td>\n",
              "      <td>143.522727</td>\n",
              "      <td>0.589386</td>\n",
              "      <td>7.600000e-01</td>\n",
              "      <td>0.605714</td>\n",
              "      <td>2.088571</td>\n",
              "      <td>1.517143</td>\n",
              "      <td>12.642857</td>\n",
              "      <td>30.937500</td>\n",
              "      <td>96.500000</td>\n",
              "      <td>10.974432</td>\n",
              "      <td>0.667614</td>\n",
              "      <td>0.985795</td>\n",
              "      <td>71.789773</td>\n",
              "      <td>41.974432</td>\n",
              "      <td>2.650568</td>\n",
              "      <td>2.664773</td>\n",
              "      <td>35.142045</td>\n",
              "      <td>5.781250</td>\n",
              "      <td>0.750000</td>\n",
              "    </tr>\n",
              "    <tr>\n",
              "      <th>std</th>\n",
              "      <td>101.757883</td>\n",
              "      <td>1.439577</td>\n",
              "      <td>35.823273</td>\n",
              "      <td>17.672541</td>\n",
              "      <td>74.712246</td>\n",
              "      <td>0.239586</td>\n",
              "      <td>3.668951e-15</td>\n",
              "      <td>0.489396</td>\n",
              "      <td>1.670796</td>\n",
              "      <td>1.250097</td>\n",
              "      <td>10.891015</td>\n",
              "      <td>24.675248</td>\n",
              "      <td>45.697631</td>\n",
              "      <td>7.387286</td>\n",
              "      <td>0.471739</td>\n",
              "      <td>0.118502</td>\n",
              "      <td>39.426532</td>\n",
              "      <td>29.724124</td>\n",
              "      <td>1.588796</td>\n",
              "      <td>1.120189</td>\n",
              "      <td>27.642142</td>\n",
              "      <td>2.563249</td>\n",
              "      <td>0.433629</td>\n",
              "    </tr>\n",
              "    <tr>\n",
              "      <th>min</th>\n",
              "      <td>0.000000</td>\n",
              "      <td>1.000000</td>\n",
              "      <td>1.000000</td>\n",
              "      <td>0.000000</td>\n",
              "      <td>3.000000</td>\n",
              "      <td>0.038319</td>\n",
              "      <td>7.600000e-01</td>\n",
              "      <td>0.000000</td>\n",
              "      <td>0.000000</td>\n",
              "      <td>0.000000</td>\n",
              "      <td>1.000000</td>\n",
              "      <td>0.000000</td>\n",
              "      <td>0.000000</td>\n",
              "      <td>0.000000</td>\n",
              "      <td>0.000000</td>\n",
              "      <td>0.000000</td>\n",
              "      <td>0.000000</td>\n",
              "      <td>0.000000</td>\n",
              "      <td>0.000000</td>\n",
              "      <td>0.000000</td>\n",
              "      <td>0.000000</td>\n",
              "      <td>0.000000</td>\n",
              "      <td>0.000000</td>\n",
              "    </tr>\n",
              "    <tr>\n",
              "      <th>25%</th>\n",
              "      <td>87.750000</td>\n",
              "      <td>1.000000</td>\n",
              "      <td>40.750000</td>\n",
              "      <td>14.000000</td>\n",
              "      <td>85.000000</td>\n",
              "      <td>0.445020</td>\n",
              "      <td>7.600000e-01</td>\n",
              "      <td>0.000000</td>\n",
              "      <td>1.000000</td>\n",
              "      <td>1.000000</td>\n",
              "      <td>4.000000</td>\n",
              "      <td>9.000000</td>\n",
              "      <td>62.750000</td>\n",
              "      <td>3.000000</td>\n",
              "      <td>0.000000</td>\n",
              "      <td>1.000000</td>\n",
              "      <td>36.000000</td>\n",
              "      <td>12.000000</td>\n",
              "      <td>2.000000</td>\n",
              "      <td>3.000000</td>\n",
              "      <td>5.000000</td>\n",
              "      <td>4.000000</td>\n",
              "      <td>0.750000</td>\n",
              "    </tr>\n",
              "    <tr>\n",
              "      <th>50%</th>\n",
              "      <td>175.500000</td>\n",
              "      <td>2.000000</td>\n",
              "      <td>68.500000</td>\n",
              "      <td>31.000000</td>\n",
              "      <td>144.000000</td>\n",
              "      <td>0.542750</td>\n",
              "      <td>7.600000e-01</td>\n",
              "      <td>1.000000</td>\n",
              "      <td>2.000000</td>\n",
              "      <td>1.000000</td>\n",
              "      <td>7.000000</td>\n",
              "      <td>24.000000</td>\n",
              "      <td>104.000000</td>\n",
              "      <td>11.000000</td>\n",
              "      <td>1.000000</td>\n",
              "      <td>1.000000</td>\n",
              "      <td>71.000000</td>\n",
              "      <td>34.000000</td>\n",
              "      <td>3.000000</td>\n",
              "      <td>3.000000</td>\n",
              "      <td>34.500000</td>\n",
              "      <td>5.000000</td>\n",
              "      <td>1.000000</td>\n",
              "    </tr>\n",
              "    <tr>\n",
              "      <th>75%</th>\n",
              "      <td>263.250000</td>\n",
              "      <td>2.000000</td>\n",
              "      <td>92.000000</td>\n",
              "      <td>45.000000</td>\n",
              "      <td>194.000000</td>\n",
              "      <td>0.668588</td>\n",
              "      <td>7.600000e-01</td>\n",
              "      <td>1.000000</td>\n",
              "      <td>3.000000</td>\n",
              "      <td>2.000000</td>\n",
              "      <td>21.000000</td>\n",
              "      <td>54.250000</td>\n",
              "      <td>133.250000</td>\n",
              "      <td>18.000000</td>\n",
              "      <td>1.000000</td>\n",
              "      <td>1.000000</td>\n",
              "      <td>100.000000</td>\n",
              "      <td>71.250000</td>\n",
              "      <td>3.000000</td>\n",
              "      <td>3.000000</td>\n",
              "      <td>64.000000</td>\n",
              "      <td>8.000000</td>\n",
              "      <td>1.000000</td>\n",
              "    </tr>\n",
              "    <tr>\n",
              "      <th>max</th>\n",
              "      <td>351.000000</td>\n",
              "      <td>5.000000</td>\n",
              "      <td>128.000000</td>\n",
              "      <td>59.000000</td>\n",
              "      <td>302.000000</td>\n",
              "      <td>2.160000</td>\n",
              "      <td>7.600000e-01</td>\n",
              "      <td>1.000000</td>\n",
              "      <td>11.000000</td>\n",
              "      <td>8.000000</td>\n",
              "      <td>38.000000</td>\n",
              "      <td>82.000000</td>\n",
              "      <td>176.000000</td>\n",
              "      <td>24.000000</td>\n",
              "      <td>1.000000</td>\n",
              "      <td>1.000000</td>\n",
              "      <td>138.000000</td>\n",
              "      <td>99.000000</td>\n",
              "      <td>7.000000</td>\n",
              "      <td>6.000000</td>\n",
              "      <td>75.000000</td>\n",
              "      <td>9.000000</td>\n",
              "      <td>1.000000</td>\n",
              "    </tr>\n",
              "  </tbody>\n",
              "</table>\n",
              "</div>"
            ],
            "text/plain": [
              "            index      period      minute  ...     stadium   direction     outcome\n",
              "count  352.000000  352.000000  352.000000  ...  352.000000  352.000000  352.000000\n",
              "mean   175.500000    2.343750   69.321023  ...   35.142045    5.781250    0.750000\n",
              "std    101.757883    1.439577   35.823273  ...   27.642142    2.563249    0.433629\n",
              "min      0.000000    1.000000    1.000000  ...    0.000000    0.000000    0.000000\n",
              "25%     87.750000    1.000000   40.750000  ...    5.000000    4.000000    0.750000\n",
              "50%    175.500000    2.000000   68.500000  ...   34.500000    5.000000    1.000000\n",
              "75%    263.250000    2.000000   92.000000  ...   64.000000    8.000000    1.000000\n",
              "max    351.000000    5.000000  128.000000  ...   75.000000    9.000000    1.000000\n",
              "\n",
              "[8 rows x 23 columns]"
            ]
          },
          "metadata": {
            "tags": []
          },
          "execution_count": 3
        }
      ]
    },
    {
      "cell_type": "code",
      "metadata": {
        "colab": {
          "base_uri": "https://localhost:8080/"
        },
        "id": "f_H4DJI2UXgS",
        "outputId": "919b20ad-b36f-44cb-bb22-c36f2d223eca"
      },
      "source": [
        "df.info()"
      ],
      "execution_count": 4,
      "outputs": [
        {
          "output_type": "stream",
          "text": [
            "<class 'pandas.core.frame.DataFrame'>\n",
            "RangeIndex: 352 entries, 0 to 351\n",
            "Data columns (total 23 columns):\n",
            " #   Column                 Non-Null Count  Dtype  \n",
            "---  ------                 --------------  -----  \n",
            " 0   index                  352 non-null    int64  \n",
            " 1   period                 352 non-null    int64  \n",
            " 2   minute                 352 non-null    int64  \n",
            " 3   second                 352 non-null    int64  \n",
            " 4   possession             352 non-null    int64  \n",
            " 5   duration               352 non-null    float64\n",
            " 6   statsbomb_xg           352 non-null    float64\n",
            " 7   penalty_taken_at_home  350 non-null    float64\n",
            " 8   home_score             350 non-null    float64\n",
            " 9   away_score             350 non-null    float64\n",
            " 10  match_week             350 non-null    float64\n",
            " 11  player_team_name       352 non-null    int64  \n",
            " 12  player_name            352 non-null    int64  \n",
            " 13  player_position        352 non-null    int64  \n",
            " 14  foot                   352 non-null    int64  \n",
            " 15  technique              352 non-null    int64  \n",
            " 16  keeper_name            352 non-null    int64  \n",
            " 17  keeper_team_name       352 non-null    int64  \n",
            " 18  competition_name       352 non-null    int64  \n",
            " 19  competition_stage      352 non-null    int64  \n",
            " 20  stadium                352 non-null    int64  \n",
            " 21  direction              352 non-null    int64  \n",
            " 22  outcome                352 non-null    int64  \n",
            "dtypes: float64(6), int64(17)\n",
            "memory usage: 63.4 KB\n"
          ],
          "name": "stdout"
        }
      ]
    },
    {
      "cell_type": "code",
      "metadata": {
        "colab": {
          "base_uri": "https://localhost:8080/"
        },
        "id": "lXlYPMAOkJSf",
        "outputId": "21c6f745-709b-4819-8ac1-6717d5796be9"
      },
      "source": [
        "df.isnull().sum()"
      ],
      "execution_count": 5,
      "outputs": [
        {
          "output_type": "execute_result",
          "data": {
            "text/plain": [
              "index                    0\n",
              "period                   0\n",
              "minute                   0\n",
              "second                   0\n",
              "possession               0\n",
              "duration                 0\n",
              "statsbomb_xg             0\n",
              "penalty_taken_at_home    2\n",
              "home_score               2\n",
              "away_score               2\n",
              "match_week               2\n",
              "player_team_name         0\n",
              "player_name              0\n",
              "player_position          0\n",
              "foot                     0\n",
              "technique                0\n",
              "keeper_name              0\n",
              "keeper_team_name         0\n",
              "competition_name         0\n",
              "competition_stage        0\n",
              "stadium                  0\n",
              "direction                0\n",
              "outcome                  0\n",
              "dtype: int64"
            ]
          },
          "metadata": {
            "tags": []
          },
          "execution_count": 5
        }
      ]
    },
    {
      "cell_type": "code",
      "metadata": {
        "colab": {
          "base_uri": "https://localhost:8080/"
        },
        "id": "QbMmIRVpkU3Z",
        "outputId": "9fc1abb0-b105-4771-c067-34638a953950"
      },
      "source": [
        "df[\"penalty_taken_at_home\"].fillna(df[\"penalty_taken_at_home\"].mean(),inplace=True)\n",
        "df[\"home_score\"].fillna(df[\"home_score\"].mean(),inplace=True)\n",
        "df[\"away_score\"].fillna(df[\"away_score\"].mean(),inplace=True)\n",
        "df[\"match_week\"].fillna(df[\"match_week\"].mean(),inplace=True)\n",
        "df.isnull().sum()"
      ],
      "execution_count": 6,
      "outputs": [
        {
          "output_type": "execute_result",
          "data": {
            "text/plain": [
              "index                    0\n",
              "period                   0\n",
              "minute                   0\n",
              "second                   0\n",
              "possession               0\n",
              "duration                 0\n",
              "statsbomb_xg             0\n",
              "penalty_taken_at_home    0\n",
              "home_score               0\n",
              "away_score               0\n",
              "match_week               0\n",
              "player_team_name         0\n",
              "player_name              0\n",
              "player_position          0\n",
              "foot                     0\n",
              "technique                0\n",
              "keeper_name              0\n",
              "keeper_team_name         0\n",
              "competition_name         0\n",
              "competition_stage        0\n",
              "stadium                  0\n",
              "direction                0\n",
              "outcome                  0\n",
              "dtype: int64"
            ]
          },
          "metadata": {
            "tags": []
          },
          "execution_count": 6
        }
      ]
    },
    {
      "cell_type": "code",
      "metadata": {
        "colab": {
          "base_uri": "https://localhost:8080/"
        },
        "id": "UxxN0ZxOUk6y",
        "outputId": "4ade2d6e-6a0a-4f8a-8f18-89972675e677"
      },
      "source": [
        "X = df.iloc[:, :-1].values\n",
        "y = df.iloc[:, -1].values\n",
        "X, y"
      ],
      "execution_count": 7,
      "outputs": [
        {
          "output_type": "execute_result",
          "data": {
            "text/plain": [
              "(array([[  0.,   2.,  92., ...,   3.,   5.,   8.],\n",
              "        [  1.,   2.,  62., ...,   3.,   5.,   5.],\n",
              "        [  2.,   2.,  67., ...,   3.,   5.,   9.],\n",
              "        ...,\n",
              "        [349.,   2.,  63., ...,   3.,  24.,   1.],\n",
              "        [350.,   2.,  47., ...,   3.,  26.,   9.],\n",
              "        [351.,   2.,  86., ...,   3.,   5.,   8.]]),\n",
              " array([1, 1, 1, 1, 1, 1, 0, 1, 1, 0, 1, 0, 1, 1, 1, 1, 0, 1, 0, 1, 1, 1,\n",
              "        0, 1, 1, 1, 1, 1, 1, 1, 0, 1, 1, 1, 1, 0, 0, 0, 0, 1, 1, 1, 0, 1,\n",
              "        1, 1, 1, 1, 1, 1, 1, 1, 1, 0, 1, 1, 0, 1, 0, 1, 1, 1, 0, 1, 1, 1,\n",
              "        0, 0, 0, 1, 1, 1, 1, 1, 1, 0, 1, 1, 1, 1, 1, 0, 0, 1, 1, 1, 1, 0,\n",
              "        1, 1, 0, 1, 1, 1, 0, 0, 1, 0, 1, 1, 0, 1, 1, 1, 1, 1, 1, 1, 1, 1,\n",
              "        1, 1, 1, 1, 1, 1, 0, 1, 0, 1, 1, 0, 1, 0, 0, 0, 1, 0, 1, 1, 0, 1,\n",
              "        0, 1, 1, 1, 1, 1, 1, 1, 1, 0, 1, 1, 0, 0, 1, 1, 0, 0, 1, 1, 1, 1,\n",
              "        1, 1, 1, 1, 1, 1, 1, 1, 1, 1, 1, 1, 1, 1, 1, 1, 1, 0, 1, 1, 1, 1,\n",
              "        0, 1, 0, 1, 1, 1, 1, 0, 1, 0, 1, 1, 1, 1, 0, 1, 0, 1, 1, 1, 1, 1,\n",
              "        1, 1, 1, 1, 1, 1, 0, 1, 0, 1, 1, 1, 0, 1, 1, 1, 1, 0, 0, 1, 1, 1,\n",
              "        1, 1, 1, 0, 0, 1, 1, 1, 1, 1, 1, 0, 0, 1, 1, 1, 1, 1, 1, 0, 1, 1,\n",
              "        0, 1, 1, 1, 1, 1, 1, 1, 1, 1, 1, 0, 1, 1, 0, 1, 1, 1, 1, 1, 1, 1,\n",
              "        0, 1, 1, 0, 1, 1, 1, 1, 0, 1, 1, 1, 0, 1, 1, 1, 1, 0, 0, 1, 1, 1,\n",
              "        1, 1, 0, 1, 1, 1, 1, 0, 1, 0, 1, 1, 1, 1, 0, 1, 1, 0, 0, 0, 1, 1,\n",
              "        1, 1, 0, 0, 0, 1, 1, 1, 1, 1, 1, 0, 1, 1, 1, 0, 1, 1, 1, 1, 1, 1,\n",
              "        0, 0, 1, 0, 1, 0, 1, 1, 0, 0, 1, 1, 1, 1, 1, 1, 0, 1, 0, 1, 1, 1]))"
            ]
          },
          "metadata": {
            "tags": []
          },
          "execution_count": 7
        }
      ]
    },
    {
      "cell_type": "code",
      "metadata": {
        "id": "r-tDw4UJfAMO"
      },
      "source": [
        "from sklearn.model_selection import train_test_split\n",
        "X_train, X_test, y_train, y_test = train_test_split(X, y, test_size = 0.25, random_state = 0)"
      ],
      "execution_count": 8,
      "outputs": []
    },
    {
      "cell_type": "code",
      "metadata": {
        "colab": {
          "base_uri": "https://localhost:8080/"
        },
        "id": "gFnvaJ1YfFov",
        "outputId": "68e4c1e9-797d-416e-800a-cbdf4258b368"
      },
      "source": [
        "X_test"
      ],
      "execution_count": 9,
      "outputs": [
        {
          "output_type": "execute_result",
          "data": {
            "text/plain": [
              "array([[  6.,   2.,  84., ...,   3.,   5.,   8.],\n",
              "       [ 52.,   2.,  61., ...,   3.,   1.,   6.],\n",
              "       [259.,   2.,  71., ...,   3.,  13.,   9.],\n",
              "       ...,\n",
              "       [ 22.,   2.,  47., ...,   0.,  62.,   9.],\n",
              "       [340.,   5., 125., ...,   2.,  43.,   5.],\n",
              "       [309.,   5., 124., ...,   4.,  65.,   2.]])"
            ]
          },
          "metadata": {
            "tags": []
          },
          "execution_count": 9
        }
      ]
    },
    {
      "cell_type": "code",
      "metadata": {
        "colab": {
          "base_uri": "https://localhost:8080/"
        },
        "id": "0vl_PfQSfLsP",
        "outputId": "f43d4b63-f44e-4691-ce6d-1ee027b2d396"
      },
      "source": [
        "X_train"
      ],
      "execution_count": 10,
      "outputs": [
        {
          "output_type": "execute_result",
          "data": {
            "text/plain": [
              "array([[142.,   2.,  52., ...,   3.,  21.,   7.],\n",
              "       [258.,   1.,  22., ...,   3.,  13.,   5.],\n",
              "       [ 66.,   2.,  65., ...,   3.,  46.,   9.],\n",
              "       ...,\n",
              "       [117.,   1.,  38., ...,   3.,   5.,   4.],\n",
              "       [ 47.,   2.,  55., ...,   3.,  66.,   6.],\n",
              "       [172.,   2.,  73., ...,   3.,  75.,   8.]])"
            ]
          },
          "metadata": {
            "tags": []
          },
          "execution_count": 10
        }
      ]
    },
    {
      "cell_type": "code",
      "metadata": {
        "colab": {
          "base_uri": "https://localhost:8080/"
        },
        "id": "hHKDVssNf2uv",
        "outputId": "da7b2373-0ea8-47e1-a039-36d6a3fb35f9"
      },
      "source": [
        "y_train"
      ],
      "execution_count": 11,
      "outputs": [
        {
          "output_type": "execute_result",
          "data": {
            "text/plain": [
              "array([1, 1, 0, 1, 1, 1, 1, 1, 0, 1, 1, 0, 0, 1, 1, 0, 1, 1, 1, 0, 1, 1,\n",
              "       0, 1, 1, 1, 0, 0, 1, 1, 1, 1, 1, 1, 1, 1, 1, 0, 0, 1, 1, 0, 1, 0,\n",
              "       1, 1, 0, 1, 1, 1, 1, 0, 1, 1, 1, 1, 1, 1, 1, 1, 1, 1, 1, 1, 1, 0,\n",
              "       1, 0, 1, 0, 0, 1, 1, 1, 1, 0, 1, 1, 1, 1, 1, 1, 0, 1, 1, 0, 1, 1,\n",
              "       1, 0, 1, 1, 1, 1, 1, 1, 0, 1, 1, 1, 0, 1, 1, 0, 0, 0, 1, 1, 1, 1,\n",
              "       1, 1, 1, 0, 1, 0, 1, 1, 1, 0, 1, 1, 1, 1, 1, 1, 1, 1, 1, 1, 0, 1,\n",
              "       0, 1, 1, 1, 1, 0, 1, 1, 1, 0, 1, 1, 1, 1, 1, 0, 1, 1, 1, 1, 0, 0,\n",
              "       0, 1, 1, 1, 1, 1, 1, 0, 1, 0, 1, 0, 1, 1, 0, 1, 0, 1, 1, 1, 1, 1,\n",
              "       1, 1, 0, 0, 0, 1, 0, 1, 1, 1, 1, 1, 1, 0, 1, 1, 1, 1, 1, 1, 1, 1,\n",
              "       0, 1, 1, 1, 0, 0, 1, 1, 1, 1, 0, 0, 1, 1, 0, 0, 0, 0, 1, 1, 1, 0,\n",
              "       1, 1, 1, 1, 1, 1, 0, 0, 1, 0, 0, 1, 1, 1, 1, 1, 1, 1, 1, 1, 1, 1,\n",
              "       1, 1, 1, 0, 1, 1, 1, 1, 1, 0, 1, 0, 1, 1, 0, 1, 1, 0, 0, 1, 1, 1])"
            ]
          },
          "metadata": {
            "tags": []
          },
          "execution_count": 11
        }
      ]
    },
    {
      "cell_type": "code",
      "metadata": {
        "colab": {
          "base_uri": "https://localhost:8080/"
        },
        "id": "0aXuxsQLf4c_",
        "outputId": "d24fe01c-f0c0-4d16-b1ad-a6b794d26c06"
      },
      "source": [
        "y_test"
      ],
      "execution_count": 12,
      "outputs": [
        {
          "output_type": "execute_result",
          "data": {
            "text/plain": [
              "array([0, 1, 1, 1, 1, 1, 1, 1, 1, 0, 0, 0, 1, 1, 0, 1, 1, 1, 1, 0, 1, 1,\n",
              "       0, 1, 1, 1, 1, 1, 1, 0, 1, 1, 1, 0, 1, 1, 1, 1, 0, 1, 0, 1, 1, 1,\n",
              "       1, 1, 1, 1, 0, 0, 1, 1, 1, 1, 1, 1, 1, 1, 1, 1, 0, 0, 0, 1, 1, 1,\n",
              "       1, 1, 1, 1, 1, 1, 1, 1, 1, 1, 0, 1, 1, 1, 0, 1, 1, 1, 1, 0, 1, 1])"
            ]
          },
          "metadata": {
            "tags": []
          },
          "execution_count": 12
        }
      ]
    },
    {
      "cell_type": "code",
      "metadata": {
        "id": "Y_DCAkQQf6QC"
      },
      "source": [
        "#sns.pairplot(df, hue='outcome', size=5)"
      ],
      "execution_count": 13,
      "outputs": []
    },
    {
      "cell_type": "code",
      "metadata": {
        "id": "s4PbFyF2gDUC"
      },
      "source": [
        "from sklearn.preprocessing import StandardScaler\n",
        "sc = StandardScaler()\n",
        "X_train = sc.fit_transform(X_train)\n",
        "X_test = sc.transform(X_test)"
      ],
      "execution_count": 14,
      "outputs": []
    },
    {
      "cell_type": "code",
      "metadata": {
        "colab": {
          "base_uri": "https://localhost:8080/"
        },
        "id": "SrK28nSuiHaJ",
        "outputId": "521b80da-d932-44dc-ae89-964b1c711043"
      },
      "source": [
        "X_train"
      ],
      "execution_count": 15,
      "outputs": [
        {
          "output_type": "execute_result",
          "data": {
            "text/plain": [
              "array([[-0.36036894, -0.27400341, -0.49937907, ...,  0.29662877,\n",
              "        -0.54793988,  0.49852074],\n",
              "       [ 0.76724304, -0.95004922, -1.32164148, ...,  0.29662877,\n",
              "        -0.83826828, -0.28023355],\n",
              "       [-1.09914921, -0.27400341, -0.14306535, ...,  0.29662877,\n",
              "         0.35933639,  1.27727502],\n",
              "       ...,\n",
              "       [-0.60338877, -0.95004922, -0.88310153, ...,  0.29662877,\n",
              "        -1.12859669, -0.66961069],\n",
              "       [-1.28384427, -0.27400341, -0.41715283, ...,  0.29662877,\n",
              "         1.0851574 ,  0.10914359],\n",
              "       [-0.06874515, -0.27400341,  0.07620462, ...,  0.29662877,\n",
              "         1.41177685,  0.88789788]])"
            ]
          },
          "metadata": {
            "tags": []
          },
          "execution_count": 15
        }
      ]
    },
    {
      "cell_type": "code",
      "metadata": {
        "colab": {
          "base_uri": "https://localhost:8080/"
        },
        "id": "ctDMKVpfiJue",
        "outputId": "1fe4547f-3dc6-4577-cab5-29c31955144b"
      },
      "source": [
        "X_test"
      ],
      "execution_count": 16,
      "outputs": [
        {
          "output_type": "execute_result",
          "data": {
            "text/plain": [
              "array([[-1.68239678, -0.27400341,  0.37770084, ...,  0.29662877,\n",
              "        -1.12859669,  0.88789788],\n",
              "       [-1.23524031, -0.27400341, -0.25270034, ...,  0.29662877,\n",
              "        -1.27376089,  0.10914359],\n",
              "       [ 0.77696383, -0.27400341,  0.02138713, ...,  0.29662877,\n",
              "        -0.83826828,  1.27727502],\n",
              "       ...,\n",
              "       [-1.5268641 , -0.27400341, -0.6364228 , ..., -2.34303396,\n",
              "         0.9399932 ,  1.27727502],\n",
              "       [ 1.56434806,  1.75413401,  1.50145948, ..., -0.58325881,\n",
              "         0.25046324, -0.28023355],\n",
              "       [ 1.26300348,  1.75413401,  1.47405073, ...,  1.17651634,\n",
              "         1.04886635, -1.44836498]])"
            ]
          },
          "metadata": {
            "tags": []
          },
          "execution_count": 16
        }
      ]
    },
    {
      "cell_type": "code",
      "metadata": {
        "colab": {
          "base_uri": "https://localhost:8080/"
        },
        "id": "lOmP9brjiLzN",
        "outputId": "aaf7c38c-9350-4db5-fad2-c6f5c2b22774"
      },
      "source": [
        "from sklearn.linear_model import LogisticRegression\n",
        "classifier = LogisticRegression(random_state = 0)\n",
        "classifier.fit(X_train, y_train)"
      ],
      "execution_count": 17,
      "outputs": [
        {
          "output_type": "execute_result",
          "data": {
            "text/plain": [
              "LogisticRegression(C=1.0, class_weight=None, dual=False, fit_intercept=True,\n",
              "                   intercept_scaling=1, l1_ratio=None, max_iter=100,\n",
              "                   multi_class='auto', n_jobs=None, penalty='l2',\n",
              "                   random_state=0, solver='lbfgs', tol=0.0001, verbose=0,\n",
              "                   warm_start=False)"
            ]
          },
          "metadata": {
            "tags": []
          },
          "execution_count": 17
        }
      ]
    },
    {
      "cell_type": "code",
      "metadata": {
        "id": "wlqv3jgYjew_"
      },
      "source": [
        "y_pred = classifier.predict(X_test)\n",
        "print(np.concatenate((y_pred.reshape(len(y_pred),1), y_test.reshape(len(y_test),1)),1))"
      ],
      "execution_count": null,
      "outputs": []
    },
    {
      "cell_type": "code",
      "metadata": {
        "colab": {
          "base_uri": "https://localhost:8080/"
        },
        "id": "wGWmqXWUlzWR",
        "outputId": "69fa2a76-cecc-4034-9a12-fcdcbad5e0e2"
      },
      "source": [
        "from sklearn.metrics import confusion_matrix, accuracy_score\n",
        "cm = confusion_matrix(y_test, y_pred)\n",
        "print(cm)\n",
        "accuracy_score(y_test, y_pred)"
      ],
      "execution_count": 19,
      "outputs": [
        {
          "output_type": "stream",
          "text": [
            "[[ 2 17]\n",
            " [ 1 68]]\n"
          ],
          "name": "stdout"
        },
        {
          "output_type": "execute_result",
          "data": {
            "text/plain": [
              "0.7954545454545454"
            ]
          },
          "metadata": {
            "tags": []
          },
          "execution_count": 19
        }
      ]
    },
    {
      "cell_type": "code",
      "metadata": {
        "id": "NuKN_mTTpNc_",
        "colab": {
          "base_uri": "https://localhost:8080/"
        },
        "outputId": "e2170e26-c61a-4e5f-ad89-20d92c99115a"
      },
      "source": [
        "import statsmodels.api as sm\n",
        "\n",
        "logit_model=sm.Logit(y_train,X_train)\n",
        "result=logit_model.fit()\n",
        "print(result.summary2())"
      ],
      "execution_count": 20,
      "outputs": [
        {
          "output_type": "stream",
          "text": [
            "/usr/local/lib/python3.7/dist-packages/statsmodels/tools/_testing.py:19: FutureWarning: pandas.util.testing is deprecated. Use the functions in the public API at pandas.testing instead.\n",
            "  import pandas.util.testing as tm\n"
          ],
          "name": "stderr"
        },
        {
          "output_type": "stream",
          "text": [
            "Warning: Maximum number of iterations has been exceeded.\n",
            "         Current function value: 0.506086\n",
            "         Iterations: 35\n",
            "                        Results: Logit\n",
            "===============================================================\n",
            "Model:              Logit            Pseudo R-squared: 0.119   \n",
            "Dependent Variable: y                AIC:              311.2136\n",
            "Date:               2021-07-08 12:11 BIC:              389.8845\n",
            "No. Observations:   264              Log-Likelihood:   -133.61 \n",
            "Df Model:           21               LL-Null:          -151.66 \n",
            "Df Residuals:       242              LLR p-value:      0.021246\n",
            "Converged:          0.0000           Scale:            1.0000  \n",
            "No. Iterations:     35.0000                                    \n",
            "----------------------------------------------------------------\n",
            "            Coef.   Std.Err.     z     P>|z|    [0.025    0.975]\n",
            "----------------------------------------------------------------\n",
            "x1         -0.1326    0.1872  -0.7081  0.4789   -0.4994   0.2343\n",
            "x2          0.1013    0.4073   0.2488  0.8035   -0.6970   0.8997\n",
            "x3          1.1704    0.8521   1.3736  0.1696   -0.4997   2.8405\n",
            "x4         -0.0827    0.1571  -0.5266  0.5985   -0.3906   0.2252\n",
            "x5         -1.3680    0.7189  -1.9030  0.0570   -2.7769   0.0410\n",
            "x6          0.7102    0.2383   2.9805  0.0029    0.2432   1.1773\n",
            "const       1.3833    1.5278   0.9054  0.3653   -1.6112   4.3778\n",
            "x7          0.0007    0.1666   0.0043  0.9966   -0.3259   0.3273\n",
            "x8          0.3079    0.1981   1.5544  0.1201   -0.0803   0.6961\n",
            "x9          0.2300    0.1693   1.3586  0.1743   -0.1018   0.5619\n",
            "x10         0.2457    0.2079   1.1818  0.2373   -0.1618   0.6531\n",
            "x11        -0.0241    0.1749  -0.1378  0.8904   -0.3669   0.3187\n",
            "x12         0.0989    0.1625   0.6089  0.5426   -0.2195   0.4174\n",
            "x13        -0.0528    0.1560  -0.3388  0.7348   -0.3586   0.2529\n",
            "x14         0.1281    0.1682   0.7616  0.4463   -0.2016   0.4578\n",
            "x15        -1.0848   10.9340  -0.0992  0.9210  -22.5151  20.3454\n",
            "x16        -0.3623    0.1701  -2.1301  0.0332   -0.6956  -0.0289\n",
            "x17        -0.0488    0.1651  -0.2956  0.7676   -0.3723   0.2747\n",
            "x18         0.2974    0.2077   1.4318  0.1522   -0.1097   0.7044\n",
            "x19        -0.3407    0.1985  -1.7162  0.0861   -0.7298   0.0484\n",
            "x20        -0.1298    0.1995  -0.6506  0.5153   -0.5209   0.2613\n",
            "x21         0.0165    0.1609   0.1026  0.9183   -0.2989   0.3320\n",
            "===============================================================\n",
            "\n"
          ],
          "name": "stdout"
        },
        {
          "output_type": "stream",
          "text": [
            "/usr/local/lib/python3.7/dist-packages/statsmodels/base/model.py:512: ConvergenceWarning: Maximum Likelihood optimization failed to converge. Check mle_retvals\n",
            "  \"Check mle_retvals\", ConvergenceWarning)\n"
          ],
          "name": "stderr"
        }
      ]
    },
    {
      "cell_type": "code",
      "metadata": {
        "id": "nmCZkk5jFCK2"
      },
      "source": [
        "classifier.fit(X_train, y_train)\n",
        "predicitions = classifier.predict_proba(X_test)\n",
        "predicitions_probs = predicitions[:, 1]"
      ],
      "execution_count": 26,
      "outputs": []
    },
    {
      "cell_type": "code",
      "metadata": {
        "colab": {
          "base_uri": "https://localhost:8080/",
          "height": 296
        },
        "id": "pbIrhQCxCLTz",
        "outputId": "f980e8c7-4f83-4ae1-f629-8de39916f2ce"
      },
      "source": [
        "from sklearn.metrics import roc_auc_score\n",
        "from sklearn.metrics import roc_curve\n",
        "fpr, tpr, _ = roc_curve(y_test, predicitions_probs)\n",
        "auc = roc_auc_score(y_test, predicitions_probs)\n",
        "gmeans = np.sqrt(tpr * (1-fpr))\n",
        "best_threshold = _[np.argmax(gmeans)]\n",
        "print('Best Threshold=%f, G-Mean=%.3f' % (best_threshold, gmeans[np.argmax(gmeans)]))\n",
        "\n",
        "plt.plot(fpr,tpr,label=\"auc=\"+str(auc))\n",
        "plt.scatter(fpr[np.argmax(gmeans)], tpr[np.argmax(gmeans)], color='black', label='Best Threshold')\n",
        "plt.xlabel('False Positive Rate')\n",
        "plt.ylabel('True Positive Rate')\n",
        "plt.legend()\n",
        "plt.show()"
      ],
      "execution_count": 33,
      "outputs": [
        {
          "output_type": "stream",
          "text": [
            "Best Threshold=0.757816, G-Mean=0.670\n"
          ],
          "name": "stdout"
        },
        {
          "output_type": "display_data",
          "data": {
            "image/png": "[encoded data removed]",
            "text/plain": [
              "<Figure size 432x288 with 1 Axes>"
            ]
          },
          "metadata": {
            "tags": [],
            "needs_background": "light"
          }
        }
      ]
    },
    {
      "cell_type": "code",
      "metadata": {
        "colab": {
          "base_uri": "https://localhost:8080/",
          "height": 295
        },
        "id": "2WhJjvbPHfFu",
        "outputId": "a8feaff7-3bc4-4d3e-8778-37aefb7c782e"
      },
      "source": [
        "from sklearn.metrics import roc_auc_score\n",
        "from sklearn.metrics import roc_curve\n",
        "fpr, tpr, _ = roc_curve(y_test, predicitions_probs)\n",
        "plt.figure()\n",
        "plt.plot(fpr, tpr, label='Logistic Regression (area = %0.2f)' % auc)\n",
        "plt.plot([0, 1], [0, 1],'r--')\n",
        "plt.xlim([0.0, 1.0])\n",
        "plt.ylim([0.0, 1.05])\n",
        "plt.xlabel('False Positive Rate')\n",
        "plt.ylabel('True Positive Rate')\n",
        "plt.title('Receiver operating characteristic')\n",
        "plt.legend(loc=\"lower right\")\n",
        "#plt.savefig('Log_ROC')\n",
        "plt.show()"
      ],
      "execution_count": 34,
      "outputs": [
        {
          "output_type": "display_data",
          "data": {
            "image/png": "[encoded data removed]",
            "text/plain": [
              "<Figure size 432x288 with 1 Axes>"
            ]
          },
          "metadata": {
            "tags": [],
            "needs_background": "light"
          }
        }
      ]
    },
    {
      "cell_type": "code",
      "metadata": {
        "id": "fd04a2af"
      },
      "source": [
        "# Import required libraries for performance metrics\n",
        "from sklearn.metrics import make_scorer\n",
        "from sklearn.metrics import accuracy_score\n",
        "from sklearn.metrics import precision_score\n",
        "from sklearn.metrics import recall_score\n",
        "from sklearn.metrics import f1_score\n",
        "from sklearn.model_selection import cross_validate\n",
        "\n",
        "# Define dictionary with performance metrics\n",
        "scoring = {'accuracy':make_scorer(accuracy_score), \n",
        "           'precision':make_scorer(precision_score),\n",
        "           'recall':make_scorer(recall_score), \n",
        "           'f1_score':make_scorer(f1_score)}\n",
        "\n",
        "# Import required libraries for machine learning classifiers\n",
        "from sklearn.linear_model import LogisticRegression\n",
        "from sklearn.svm import LinearSVC\n",
        "from sklearn.tree import DecisionTreeClassifier\n",
        "from sklearn.ensemble import RandomForestClassifier\n",
        "from sklearn.naive_bayes import GaussianNB\n",
        "\n",
        "# Instantiate the machine learning classifiers\n",
        "log_model = LogisticRegression(max_iter=100000)\n",
        "svc_model = LinearSVC(dual=False)\n",
        "dtr_model = DecisionTreeClassifier()\n",
        "rfc_model = RandomForestClassifier()\n",
        "gnb_model = GaussianNB()\n",
        "\n",
        "# Define the models evaluation function\n",
        "def models_evaluation(X, y, folds):\n",
        "    \n",
        "    '''\n",
        "    X : data set features\n",
        "    y : data set target\n",
        "    folds : number of cross-validation folds\n",
        "    \n",
        "    '''\n",
        "    \n",
        "    # Perform cross-validation to each machine learning classifier\n",
        "    log = cross_validate(log_model, X, y, cv=folds, scoring=scoring)\n",
        "    svc = cross_validate(svc_model, X, y, cv=folds, scoring=scoring)\n",
        "    dtr = cross_validate(dtr_model, X, y, cv=folds, scoring=scoring)\n",
        "    rfc = cross_validate(rfc_model, X, y, cv=folds, scoring=scoring)\n",
        "    gnb = cross_validate(gnb_model, X, y, cv=folds, scoring=scoring)\n",
        "\n",
        "    # Create a data frame with the models perfoamnce metrics scores\n",
        "    models_scores_table = pd.DataFrame({'Logistic Regression':[log['test_accuracy'].mean(),\n",
        "                                                               log['test_precision'].mean(),\n",
        "                                                               log['test_recall'].mean(),\n",
        "                                                               log['test_f1_score'].mean()],\n",
        "                                       \n",
        "                                      'Support Vector Classifier':[svc['test_accuracy'].mean(),\n",
        "                                                                   svc['test_precision'].mean(),\n",
        "                                                                   svc['test_recall'].mean(),\n",
        "                                                                   svc['test_f1_score'].mean()],\n",
        "                                       \n",
        "                                      'Decision Tree':[dtr['test_accuracy'].mean(),\n",
        "                                                       dtr['test_precision'].mean(),\n",
        "                                                       dtr['test_recall'].mean(),\n",
        "                                                       dtr['test_f1_score'].mean()],\n",
        "                                       \n",
        "                                      'Random Forest':[rfc['test_accuracy'].mean(),\n",
        "                                                       rfc['test_precision'].mean(),\n",
        "                                                       rfc['test_recall'].mean(),\n",
        "                                                       rfc['test_f1_score'].mean()],\n",
        "                                       \n",
        "                                      'Gaussian Naive Bayes':[gnb['test_accuracy'].mean(),\n",
        "                                                              gnb['test_precision'].mean(),\n",
        "                                                              gnb['test_recall'].mean(),\n",
        "                                                              gnb['test_f1_score'].mean()]},\n",
        "                                      \n",
        "                                      index=['Accuracy', 'Precision', 'Recall', 'F1 Score'])\n",
        "    \n",
        "    # Add 'Best Score' column\n",
        "    models_scores_table['Best Score'] = models_scores_table.idxmax(axis=1)\n",
        "    \n",
        "    # Return models performance metrics scores data frame\n",
        "    return(models_scores_table)\n",
        "  \n",
        "# Run models_evaluation function\n",
        "# models_evaluation(X, y, 5)"
      ],
      "execution_count": 35,
      "outputs": []
    },
    {
      "cell_type": "code",
      "metadata": {
        "colab": {
          "base_uri": "https://localhost:8080/",
          "height": 219
        },
        "id": "24lX8vYOH3O3",
        "outputId": "567bdf6b-246f-4cbb-a38e-cf74d1e8424c"
      },
      "source": [
        "models_evaluation(X_train, y_train, 5)\n",
        "#models_evaluation(agg_X_train, agg_y_train,5)"
      ],
      "execution_count": 37,
      "outputs": [
        {
          "output_type": "stream",
          "text": [
            "/usr/local/lib/python3.7/dist-packages/sklearn/metrics/_classification.py:1272: UndefinedMetricWarning: Precision is ill-defined and being set to 0.0 due to no predicted samples. Use `zero_division` parameter to control this behavior.\n",
            "  _warn_prf(average, modifier, msg_start, len(result))\n"
          ],
          "name": "stderr"
        },
        {
          "output_type": "execute_result",
          "data": {
            "text/html": [
              "<div>\n",
              "<style scoped>\n",
              "    .dataframe tbody tr th:only-of-type {\n",
              "        vertical-align: middle;\n",
              "    }\n",
              "\n",
              "    .dataframe tbody tr th {\n",
              "        vertical-align: top;\n",
              "    }\n",
              "\n",
              "    .dataframe thead th {\n",
              "        text-align: right;\n",
              "    }\n",
              "</style>\n",
              "<table border=\"1\" class=\"dataframe\">\n",
              "  <thead>\n",
              "    <tr style=\"text-align: right;\">\n",
              "      <th></th>\n",
              "      <th>Logistic Regression</th>\n",
              "      <th>Support Vector Classifier</th>\n",
              "      <th>Decision Tree</th>\n",
              "      <th>Random Forest</th>\n",
              "      <th>Gaussian Naive Bayes</th>\n",
              "      <th>Best Score</th>\n",
              "    </tr>\n",
              "  </thead>\n",
              "  <tbody>\n",
              "    <tr>\n",
              "      <th>Accuracy</th>\n",
              "      <td>0.765312</td>\n",
              "      <td>0.761466</td>\n",
              "      <td>0.666836</td>\n",
              "      <td>0.727286</td>\n",
              "      <td>0.272642</td>\n",
              "      <td>Logistic Regression</td>\n",
              "    </tr>\n",
              "    <tr>\n",
              "      <th>Precision</th>\n",
              "      <td>0.769388</td>\n",
              "      <td>0.764542</td>\n",
              "      <td>0.761998</td>\n",
              "      <td>0.751231</td>\n",
              "      <td>0.600000</td>\n",
              "      <td>Logistic Regression</td>\n",
              "    </tr>\n",
              "    <tr>\n",
              "      <th>Recall</th>\n",
              "      <td>0.974359</td>\n",
              "      <td>0.979487</td>\n",
              "      <td>0.794872</td>\n",
              "      <td>0.943590</td>\n",
              "      <td>0.025641</td>\n",
              "      <td>Support Vector Classifier</td>\n",
              "    </tr>\n",
              "    <tr>\n",
              "      <th>F1 Score</th>\n",
              "      <td>0.859806</td>\n",
              "      <td>0.858527</td>\n",
              "      <td>0.776462</td>\n",
              "      <td>0.836254</td>\n",
              "      <td>0.049024</td>\n",
              "      <td>Logistic Regression</td>\n",
              "    </tr>\n",
              "  </tbody>\n",
              "</table>\n",
              "</div>"
            ],
            "text/plain": [
              "           Logistic Regression  ...                 Best Score\n",
              "Accuracy              0.765312  ...        Logistic Regression\n",
              "Precision             0.769388  ...        Logistic Regression\n",
              "Recall                0.974359  ...  Support Vector Classifier\n",
              "F1 Score              0.859806  ...        Logistic Regression\n",
              "\n",
              "[4 rows x 6 columns]"
            ]
          },
          "metadata": {
            "tags": []
          },
          "execution_count": 37
        }
      ]
    },
    {
      "cell_type": "code",
      "metadata": {
        "colab": {
          "base_uri": "https://localhost:8080/",
          "height": 402
        },
        "id": "KX62pAdDH3ra",
        "outputId": "deb4f7c8-547f-430a-ca62-65e608656e12"
      },
      "source": [
        "coefficients = pd.concat([pd.DataFrame(X),pd.DataFrame(np.transpose(classifier.coef_))], axis = 1)\n",
        "\n",
        "\n",
        "coefficients"
      ],
      "execution_count": 43,
      "outputs": [
        {
          "output_type": "execute_result",
          "data": {
            "text/html": [
              "<div>\n",
              "<style scoped>\n",
              "    .dataframe tbody tr th:only-of-type {\n",
              "        vertical-align: middle;\n",
              "    }\n",
              "\n",
              "    .dataframe tbody tr th {\n",
              "        vertical-align: top;\n",
              "    }\n",
              "\n",
              "    .dataframe thead th {\n",
              "        text-align: right;\n",
              "    }\n",
              "</style>\n",
              "<table border=\"1\" class=\"dataframe\">\n",
              "  <thead>\n",
              "    <tr style=\"text-align: right;\">\n",
              "      <th></th>\n",
              "      <th>0</th>\n",
              "      <th>1</th>\n",
              "      <th>2</th>\n",
              "      <th>3</th>\n",
              "      <th>4</th>\n",
              "      <th>5</th>\n",
              "      <th>6</th>\n",
              "      <th>7</th>\n",
              "      <th>8</th>\n",
              "      <th>9</th>\n",
              "      <th>10</th>\n",
              "      <th>11</th>\n",
              "      <th>12</th>\n",
              "      <th>13</th>\n",
              "      <th>14</th>\n",
              "      <th>15</th>\n",
              "      <th>16</th>\n",
              "      <th>17</th>\n",
              "      <th>18</th>\n",
              "      <th>19</th>\n",
              "      <th>20</th>\n",
              "      <th>21</th>\n",
              "      <th>0</th>\n",
              "    </tr>\n",
              "  </thead>\n",
              "  <tbody>\n",
              "    <tr>\n",
              "      <th>0</th>\n",
              "      <td>0.0</td>\n",
              "      <td>2.0</td>\n",
              "      <td>92.0</td>\n",
              "      <td>5.0</td>\n",
              "      <td>149.0</td>\n",
              "      <td>0.478400</td>\n",
              "      <td>0.76</td>\n",
              "      <td>1.0</td>\n",
              "      <td>8.0</td>\n",
              "      <td>2.0</td>\n",
              "      <td>3.0</td>\n",
              "      <td>9.0</td>\n",
              "      <td>107.0</td>\n",
              "      <td>9.0</td>\n",
              "      <td>1.0</td>\n",
              "      <td>1.0</td>\n",
              "      <td>17.0</td>\n",
              "      <td>38.0</td>\n",
              "      <td>3.0</td>\n",
              "      <td>3.0</td>\n",
              "      <td>5.0</td>\n",
              "      <td>8.0</td>\n",
              "      <td>-0.055748</td>\n",
              "    </tr>\n",
              "    <tr>\n",
              "      <th>1</th>\n",
              "      <td>1.0</td>\n",
              "      <td>2.0</td>\n",
              "      <td>62.0</td>\n",
              "      <td>21.0</td>\n",
              "      <td>158.0</td>\n",
              "      <td>0.769673</td>\n",
              "      <td>0.76</td>\n",
              "      <td>1.0</td>\n",
              "      <td>4.0</td>\n",
              "      <td>2.0</td>\n",
              "      <td>9.0</td>\n",
              "      <td>9.0</td>\n",
              "      <td>107.0</td>\n",
              "      <td>3.0</td>\n",
              "      <td>1.0</td>\n",
              "      <td>1.0</td>\n",
              "      <td>132.0</td>\n",
              "      <td>80.0</td>\n",
              "      <td>3.0</td>\n",
              "      <td>3.0</td>\n",
              "      <td>5.0</td>\n",
              "      <td>5.0</td>\n",
              "      <td>0.172587</td>\n",
              "    </tr>\n",
              "    <tr>\n",
              "      <th>2</th>\n",
              "      <td>2.0</td>\n",
              "      <td>2.0</td>\n",
              "      <td>67.0</td>\n",
              "      <td>17.0</td>\n",
              "      <td>155.0</td>\n",
              "      <td>0.707958</td>\n",
              "      <td>0.76</td>\n",
              "      <td>1.0</td>\n",
              "      <td>3.0</td>\n",
              "      <td>4.0</td>\n",
              "      <td>12.0</td>\n",
              "      <td>9.0</td>\n",
              "      <td>104.0</td>\n",
              "      <td>22.0</td>\n",
              "      <td>0.0</td>\n",
              "      <td>1.0</td>\n",
              "      <td>102.0</td>\n",
              "      <td>72.0</td>\n",
              "      <td>3.0</td>\n",
              "      <td>3.0</td>\n",
              "      <td>5.0</td>\n",
              "      <td>9.0</td>\n",
              "      <td>0.452149</td>\n",
              "    </tr>\n",
              "    <tr>\n",
              "      <th>3</th>\n",
              "      <td>3.0</td>\n",
              "      <td>1.0</td>\n",
              "      <td>31.0</td>\n",
              "      <td>51.0</td>\n",
              "      <td>59.0</td>\n",
              "      <td>0.522165</td>\n",
              "      <td>0.76</td>\n",
              "      <td>0.0</td>\n",
              "      <td>2.0</td>\n",
              "      <td>2.0</td>\n",
              "      <td>22.0</td>\n",
              "      <td>79.0</td>\n",
              "      <td>31.0</td>\n",
              "      <td>10.0</td>\n",
              "      <td>1.0</td>\n",
              "      <td>1.0</td>\n",
              "      <td>90.0</td>\n",
              "      <td>11.0</td>\n",
              "      <td>3.0</td>\n",
              "      <td>3.0</td>\n",
              "      <td>5.0</td>\n",
              "      <td>4.0</td>\n",
              "      <td>-0.078622</td>\n",
              "    </tr>\n",
              "    <tr>\n",
              "      <th>4</th>\n",
              "      <td>4.0</td>\n",
              "      <td>1.0</td>\n",
              "      <td>38.0</td>\n",
              "      <td>43.0</td>\n",
              "      <td>70.0</td>\n",
              "      <td>0.321987</td>\n",
              "      <td>0.76</td>\n",
              "      <td>1.0</td>\n",
              "      <td>2.0</td>\n",
              "      <td>2.0</td>\n",
              "      <td>22.0</td>\n",
              "      <td>9.0</td>\n",
              "      <td>104.0</td>\n",
              "      <td>22.0</td>\n",
              "      <td>0.0</td>\n",
              "      <td>1.0</td>\n",
              "      <td>101.0</td>\n",
              "      <td>95.0</td>\n",
              "      <td>3.0</td>\n",
              "      <td>3.0</td>\n",
              "      <td>5.0</td>\n",
              "      <td>2.0</td>\n",
              "      <td>-0.726459</td>\n",
              "    </tr>\n",
              "    <tr>\n",
              "      <th>...</th>\n",
              "      <td>...</td>\n",
              "      <td>...</td>\n",
              "      <td>...</td>\n",
              "      <td>...</td>\n",
              "      <td>...</td>\n",
              "      <td>...</td>\n",
              "      <td>...</td>\n",
              "      <td>...</td>\n",
              "      <td>...</td>\n",
              "      <td>...</td>\n",
              "      <td>...</td>\n",
              "      <td>...</td>\n",
              "      <td>...</td>\n",
              "      <td>...</td>\n",
              "      <td>...</td>\n",
              "      <td>...</td>\n",
              "      <td>...</td>\n",
              "      <td>...</td>\n",
              "      <td>...</td>\n",
              "      <td>...</td>\n",
              "      <td>...</td>\n",
              "      <td>...</td>\n",
              "      <td>...</td>\n",
              "    </tr>\n",
              "    <tr>\n",
              "      <th>347</th>\n",
              "      <td>347.0</td>\n",
              "      <td>1.0</td>\n",
              "      <td>20.0</td>\n",
              "      <td>1.0</td>\n",
              "      <td>43.0</td>\n",
              "      <td>0.671000</td>\n",
              "      <td>0.76</td>\n",
              "      <td>1.0</td>\n",
              "      <td>6.0</td>\n",
              "      <td>1.0</td>\n",
              "      <td>5.0</td>\n",
              "      <td>9.0</td>\n",
              "      <td>104.0</td>\n",
              "      <td>3.0</td>\n",
              "      <td>0.0</td>\n",
              "      <td>1.0</td>\n",
              "      <td>94.0</td>\n",
              "      <td>29.0</td>\n",
              "      <td>3.0</td>\n",
              "      <td>3.0</td>\n",
              "      <td>5.0</td>\n",
              "      <td>4.0</td>\n",
              "      <td>NaN</td>\n",
              "    </tr>\n",
              "    <tr>\n",
              "      <th>348</th>\n",
              "      <td>348.0</td>\n",
              "      <td>2.0</td>\n",
              "      <td>69.0</td>\n",
              "      <td>39.0</td>\n",
              "      <td>145.0</td>\n",
              "      <td>0.437000</td>\n",
              "      <td>0.76</td>\n",
              "      <td>1.0</td>\n",
              "      <td>4.0</td>\n",
              "      <td>0.0</td>\n",
              "      <td>16.0</td>\n",
              "      <td>9.0</td>\n",
              "      <td>104.0</td>\n",
              "      <td>18.0</td>\n",
              "      <td>0.0</td>\n",
              "      <td>1.0</td>\n",
              "      <td>114.0</td>\n",
              "      <td>27.0</td>\n",
              "      <td>3.0</td>\n",
              "      <td>3.0</td>\n",
              "      <td>5.0</td>\n",
              "      <td>1.0</td>\n",
              "      <td>NaN</td>\n",
              "    </tr>\n",
              "    <tr>\n",
              "      <th>349</th>\n",
              "      <td>349.0</td>\n",
              "      <td>2.0</td>\n",
              "      <td>63.0</td>\n",
              "      <td>29.0</td>\n",
              "      <td>130.0</td>\n",
              "      <td>0.847593</td>\n",
              "      <td>0.76</td>\n",
              "      <td>0.0</td>\n",
              "      <td>0.0</td>\n",
              "      <td>3.0</td>\n",
              "      <td>17.0</td>\n",
              "      <td>9.0</td>\n",
              "      <td>104.0</td>\n",
              "      <td>9.0</td>\n",
              "      <td>0.0</td>\n",
              "      <td>1.0</td>\n",
              "      <td>82.0</td>\n",
              "      <td>73.0</td>\n",
              "      <td>3.0</td>\n",
              "      <td>3.0</td>\n",
              "      <td>24.0</td>\n",
              "      <td>1.0</td>\n",
              "      <td>NaN</td>\n",
              "    </tr>\n",
              "    <tr>\n",
              "      <th>350</th>\n",
              "      <td>350.0</td>\n",
              "      <td>2.0</td>\n",
              "      <td>47.0</td>\n",
              "      <td>50.0</td>\n",
              "      <td>106.0</td>\n",
              "      <td>0.581456</td>\n",
              "      <td>0.76</td>\n",
              "      <td>1.0</td>\n",
              "      <td>1.0</td>\n",
              "      <td>1.0</td>\n",
              "      <td>26.0</td>\n",
              "      <td>43.0</td>\n",
              "      <td>84.0</td>\n",
              "      <td>3.0</td>\n",
              "      <td>1.0</td>\n",
              "      <td>1.0</td>\n",
              "      <td>90.0</td>\n",
              "      <td>11.0</td>\n",
              "      <td>3.0</td>\n",
              "      <td>3.0</td>\n",
              "      <td>26.0</td>\n",
              "      <td>9.0</td>\n",
              "      <td>NaN</td>\n",
              "    </tr>\n",
              "    <tr>\n",
              "      <th>351</th>\n",
              "      <td>351.0</td>\n",
              "      <td>2.0</td>\n",
              "      <td>86.0</td>\n",
              "      <td>7.0</td>\n",
              "      <td>170.0</td>\n",
              "      <td>2.160000</td>\n",
              "      <td>0.76</td>\n",
              "      <td>0.0</td>\n",
              "      <td>2.0</td>\n",
              "      <td>1.0</td>\n",
              "      <td>32.0</td>\n",
              "      <td>79.0</td>\n",
              "      <td>31.0</td>\n",
              "      <td>19.0</td>\n",
              "      <td>1.0</td>\n",
              "      <td>1.0</td>\n",
              "      <td>90.0</td>\n",
              "      <td>11.0</td>\n",
              "      <td>3.0</td>\n",
              "      <td>3.0</td>\n",
              "      <td>5.0</td>\n",
              "      <td>8.0</td>\n",
              "      <td>NaN</td>\n",
              "    </tr>\n",
              "  </tbody>\n",
              "</table>\n",
              "<p>352 rows × 23 columns</p>\n",
              "</div>"
            ],
            "text/plain": [
              "        0    1     2     3      4   ...   18   19    20   21        0 \n",
              "0      0.0  2.0  92.0   5.0  149.0  ...  3.0  3.0   5.0  8.0 -0.055748\n",
              "1      1.0  2.0  62.0  21.0  158.0  ...  3.0  3.0   5.0  5.0  0.172587\n",
              "2      2.0  2.0  67.0  17.0  155.0  ...  3.0  3.0   5.0  9.0  0.452149\n",
              "3      3.0  1.0  31.0  51.0   59.0  ...  3.0  3.0   5.0  4.0 -0.078622\n",
              "4      4.0  1.0  38.0  43.0   70.0  ...  3.0  3.0   5.0  2.0 -0.726459\n",
              "..     ...  ...   ...   ...    ...  ...  ...  ...   ...  ...       ...\n",
              "347  347.0  1.0  20.0   1.0   43.0  ...  3.0  3.0   5.0  4.0       NaN\n",
              "348  348.0  2.0  69.0  39.0  145.0  ...  3.0  3.0   5.0  1.0       NaN\n",
              "349  349.0  2.0  63.0  29.0  130.0  ...  3.0  3.0  24.0  1.0       NaN\n",
              "350  350.0  2.0  47.0  50.0  106.0  ...  3.0  3.0  26.0  9.0       NaN\n",
              "351  351.0  2.0  86.0   7.0  170.0  ...  3.0  3.0   5.0  8.0       NaN\n",
              "\n",
              "[352 rows x 23 columns]"
            ]
          },
          "metadata": {
            "tags": []
          },
          "execution_count": 43
        }
      ]
    },
    {
      "cell_type": "code",
      "metadata": {
        "colab": {
          "base_uri": "https://localhost:8080/"
        },
        "id": "SFGw7FSfIIl7",
        "outputId": "b3fb5ee3-dbd5-4f81-9645-b63de6da7a97"
      },
      "source": [
        "classifier.coef_"
      ],
      "execution_count": 45,
      "outputs": [
        {
          "output_type": "execute_result",
          "data": {
            "text/plain": [
              "array([[-5.57475163e-02,  1.72587323e-01,  4.52148587e-01,\n",
              "        -7.86222284e-02, -7.26458771e-01,  6.46447877e-01,\n",
              "         6.12942662e-04,  2.60014591e-03,  2.96088976e-01,\n",
              "         2.08393153e-01,  2.11371588e-01, -1.37578895e-02,\n",
              "         1.00472726e-01, -4.23582179e-02,  1.06525412e-01,\n",
              "        -3.27119726e-01, -3.62633027e-01, -2.35047967e-02,\n",
              "         2.33583703e-01, -2.67300090e-01, -1.30888048e-01,\n",
              "         2.03152316e-02]])"
            ]
          },
          "metadata": {
            "tags": []
          },
          "execution_count": 45
        }
      ]
    },
    {
      "cell_type": "code",
      "metadata": {
        "colab": {
          "base_uri": "https://localhost:8080/",
          "height": 698
        },
        "id": "Ar1fwQSqJaT7",
        "outputId": "132a49fd-8b8b-4638-d9b2-09f6df76c0c5"
      },
      "source": [
        "pd.DataFrame(np.transpose(classifier.coef_))"
      ],
      "execution_count": 62,
      "outputs": [
        {
          "output_type": "execute_result",
          "data": {
            "text/html": [
              "<div>\n",
              "<style scoped>\n",
              "    .dataframe tbody tr th:only-of-type {\n",
              "        vertical-align: middle;\n",
              "    }\n",
              "\n",
              "    .dataframe tbody tr th {\n",
              "        vertical-align: top;\n",
              "    }\n",
              "\n",
              "    .dataframe thead th {\n",
              "        text-align: right;\n",
              "    }\n",
              "</style>\n",
              "<table border=\"1\" class=\"dataframe\">\n",
              "  <thead>\n",
              "    <tr style=\"text-align: right;\">\n",
              "      <th></th>\n",
              "      <th>0</th>\n",
              "    </tr>\n",
              "  </thead>\n",
              "  <tbody>\n",
              "    <tr>\n",
              "      <th>0</th>\n",
              "      <td>-0.055748</td>\n",
              "    </tr>\n",
              "    <tr>\n",
              "      <th>1</th>\n",
              "      <td>0.172587</td>\n",
              "    </tr>\n",
              "    <tr>\n",
              "      <th>2</th>\n",
              "      <td>0.452149</td>\n",
              "    </tr>\n",
              "    <tr>\n",
              "      <th>3</th>\n",
              "      <td>-0.078622</td>\n",
              "    </tr>\n",
              "    <tr>\n",
              "      <th>4</th>\n",
              "      <td>-0.726459</td>\n",
              "    </tr>\n",
              "    <tr>\n",
              "      <th>5</th>\n",
              "      <td>0.646448</td>\n",
              "    </tr>\n",
              "    <tr>\n",
              "      <th>6</th>\n",
              "      <td>0.000613</td>\n",
              "    </tr>\n",
              "    <tr>\n",
              "      <th>7</th>\n",
              "      <td>0.002600</td>\n",
              "    </tr>\n",
              "    <tr>\n",
              "      <th>8</th>\n",
              "      <td>0.296089</td>\n",
              "    </tr>\n",
              "    <tr>\n",
              "      <th>9</th>\n",
              "      <td>0.208393</td>\n",
              "    </tr>\n",
              "    <tr>\n",
              "      <th>10</th>\n",
              "      <td>0.211372</td>\n",
              "    </tr>\n",
              "    <tr>\n",
              "      <th>11</th>\n",
              "      <td>-0.013758</td>\n",
              "    </tr>\n",
              "    <tr>\n",
              "      <th>12</th>\n",
              "      <td>0.100473</td>\n",
              "    </tr>\n",
              "    <tr>\n",
              "      <th>13</th>\n",
              "      <td>-0.042358</td>\n",
              "    </tr>\n",
              "    <tr>\n",
              "      <th>14</th>\n",
              "      <td>0.106525</td>\n",
              "    </tr>\n",
              "    <tr>\n",
              "      <th>15</th>\n",
              "      <td>-0.327120</td>\n",
              "    </tr>\n",
              "    <tr>\n",
              "      <th>16</th>\n",
              "      <td>-0.362633</td>\n",
              "    </tr>\n",
              "    <tr>\n",
              "      <th>17</th>\n",
              "      <td>-0.023505</td>\n",
              "    </tr>\n",
              "    <tr>\n",
              "      <th>18</th>\n",
              "      <td>0.233584</td>\n",
              "    </tr>\n",
              "    <tr>\n",
              "      <th>19</th>\n",
              "      <td>-0.267300</td>\n",
              "    </tr>\n",
              "    <tr>\n",
              "      <th>20</th>\n",
              "      <td>-0.130888</td>\n",
              "    </tr>\n",
              "    <tr>\n",
              "      <th>21</th>\n",
              "      <td>0.020315</td>\n",
              "    </tr>\n",
              "  </tbody>\n",
              "</table>\n",
              "</div>"
            ],
            "text/plain": [
              "           0\n",
              "0  -0.055748\n",
              "1   0.172587\n",
              "2   0.452149\n",
              "3  -0.078622\n",
              "4  -0.726459\n",
              "5   0.646448\n",
              "6   0.000613\n",
              "7   0.002600\n",
              "8   0.296089\n",
              "9   0.208393\n",
              "10  0.211372\n",
              "11 -0.013758\n",
              "12  0.100473\n",
              "13 -0.042358\n",
              "14  0.106525\n",
              "15 -0.327120\n",
              "16 -0.362633\n",
              "17 -0.023505\n",
              "18  0.233584\n",
              "19 -0.267300\n",
              "20 -0.130888\n",
              "21  0.020315"
            ]
          },
          "metadata": {
            "tags": []
          },
          "execution_count": 62
        }
      ]
    },
    {
      "cell_type": "code",
      "metadata": {
        "colab": {
          "base_uri": "https://localhost:8080/"
        },
        "id": "OfTl7pDDKkpt",
        "outputId": "54691f33-4bf2-4262-b9cf-7b97a80d32da"
      },
      "source": [
        "import statsmodels.api as sm\n",
        "\n",
        "logit_model=sm.Logit(y_train,X_train)\n",
        "result=logit_model.fit()\n",
        "print(result.summary2())"
      ],
      "execution_count": 63,
      "outputs": [
        {
          "output_type": "stream",
          "text": [
            "Warning: Maximum number of iterations has been exceeded.\n",
            "         Current function value: 0.506086\n",
            "         Iterations: 35\n",
            "                        Results: Logit\n",
            "===============================================================\n",
            "Model:              Logit            Pseudo R-squared: 0.119   \n",
            "Dependent Variable: y                AIC:              311.2136\n",
            "Date:               2021-07-08 12:50 BIC:              389.8845\n",
            "No. Observations:   264              Log-Likelihood:   -133.61 \n",
            "Df Model:           21               LL-Null:          -151.66 \n",
            "Df Residuals:       242              LLR p-value:      0.021246\n",
            "Converged:          0.0000           Scale:            1.0000  \n",
            "No. Iterations:     35.0000                                    \n",
            "----------------------------------------------------------------\n",
            "            Coef.   Std.Err.     z     P>|z|    [0.025    0.975]\n",
            "----------------------------------------------------------------\n",
            "x1         -0.1326    0.1872  -0.7081  0.4789   -0.4994   0.2343\n",
            "x2          0.1013    0.4073   0.2488  0.8035   -0.6970   0.8997\n",
            "x3          1.1704    0.8521   1.3736  0.1696   -0.4997   2.8405\n",
            "x4         -0.0827    0.1571  -0.5266  0.5985   -0.3906   0.2252\n",
            "x5         -1.3680    0.7189  -1.9030  0.0570   -2.7769   0.0410\n",
            "x6          0.7102    0.2383   2.9805  0.0029    0.2432   1.1773\n",
            "const       1.3833    1.5278   0.9054  0.3653   -1.6112   4.3778\n",
            "x7          0.0007    0.1666   0.0043  0.9966   -0.3259   0.3273\n",
            "x8          0.3079    0.1981   1.5544  0.1201   -0.0803   0.6961\n",
            "x9          0.2300    0.1693   1.3586  0.1743   -0.1018   0.5619\n",
            "x10         0.2457    0.2079   1.1818  0.2373   -0.1618   0.6531\n",
            "x11        -0.0241    0.1749  -0.1378  0.8904   -0.3669   0.3187\n",
            "x12         0.0989    0.1625   0.6089  0.5426   -0.2195   0.4174\n",
            "x13        -0.0528    0.1560  -0.3388  0.7348   -0.3586   0.2529\n",
            "x14         0.1281    0.1682   0.7616  0.4463   -0.2016   0.4578\n",
            "x15        -1.0848   10.9340  -0.0992  0.9210  -22.5151  20.3454\n",
            "x16        -0.3623    0.1701  -2.1301  0.0332   -0.6956  -0.0289\n",
            "x17        -0.0488    0.1651  -0.2956  0.7676   -0.3723   0.2747\n",
            "x18         0.2974    0.2077   1.4318  0.1522   -0.1097   0.7044\n",
            "x19        -0.3407    0.1985  -1.7162  0.0861   -0.7298   0.0484\n",
            "x20        -0.1298    0.1995  -0.6506  0.5153   -0.5209   0.2613\n",
            "x21         0.0165    0.1609   0.1026  0.9183   -0.2989   0.3320\n",
            "===============================================================\n",
            "\n"
          ],
          "name": "stdout"
        },
        {
          "output_type": "stream",
          "text": [
            "/usr/local/lib/python3.7/dist-packages/statsmodels/base/model.py:512: ConvergenceWarning: Maximum Likelihood optimization failed to converge. Check mle_retvals\n",
            "  \"Check mle_retvals\", ConvergenceWarning)\n"
          ],
          "name": "stderr"
        }
      ]
    },
    {
      "cell_type": "code",
      "metadata": {
        "colab": {
          "base_uri": "https://localhost:8080/"
        },
        "id": "5fDmyFfCK895",
        "outputId": "30565cd6-ff0d-4ed7-a9ea-9d02b7825286"
      },
      "source": [
        "from sklearn.metrics import classification_report\n",
        "print(classification_report(y_test, y_pred))"
      ],
      "execution_count": 64,
      "outputs": [
        {
          "output_type": "stream",
          "text": [
            "              precision    recall  f1-score   support\n",
            "\n",
            "           0       0.67      0.11      0.18        19\n",
            "           1       0.80      0.99      0.88        69\n",
            "\n",
            "    accuracy                           0.80        88\n",
            "   macro avg       0.73      0.55      0.53        88\n",
            "weighted avg       0.77      0.80      0.73        88\n",
            "\n"
          ],
          "name": "stdout"
        }
      ]
    }
  ]
}